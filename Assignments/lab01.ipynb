{
 "cells": [
  {
   "cell_type": "markdown",
   "metadata": {},
   "source": [
    "# Twitter login\n",
    "Based on `tweepy` documentation [website](http://tweepy.readthedocs.io/en/v3.5.0/auth_tutorial.html#introduction)"
   ]
  },
  {
   "cell_type": "code",
   "execution_count": 37,
   "metadata": {},
   "outputs": [],
   "source": [
    "import configparser\n",
    "import tweepy\n",
    "\n",
    "class TwitterLogger:\n",
    "    def __init__(self, config):\n",
    "        # Load user credential + access token\n",
    "        parser = configparser.ConfigParser()\n",
    "        parser.read(config)\n",
    "        # Connect \n",
    "        auth = tweepy.OAuthHandler(parser.get('twitter', 'consumer_key'), \n",
    "                                   parser.get('twitter', 'consumer_secret'))\n",
    "        auth.set_access_token(parser.get('twitter', 'access_token'),\n",
    "                              parser.get('twitter', 'access_secret'))\n",
    "        self._api = tweepy.API(auth, wait_on_rate_limit=True, wait_on_rate_limit_notify=True)\n",
    "        \n",
    "    def get_user(self, username):\n",
    "        return self._api.get_user(username)\n",
    "        \n",
    "# Connect \n",
    "sess = TwitterLogger('credentials.ini')\n",
    "# Query for a user\n",
    "user = sess.get_user('EPFL_en')"
   ]
  },
  {
   "cell_type": "code",
   "execution_count": null,
   "metadata": {
    "collapsed": true
   },
   "outputs": [],
   "source": []
  }
 ],
 "metadata": {
  "kernelspec": {
   "display_name": "Python 3",
   "language": "python",
   "name": "python3"
  },
  "language_info": {
   "codemirror_mode": {
    "name": "ipython",
    "version": 3
   },
   "file_extension": ".py",
   "mimetype": "text/x-python",
   "name": "python",
   "nbconvert_exporter": "python",
   "pygments_lexer": "ipython3",
   "version": "3.6.1"
  }
 },
 "nbformat": 4,
 "nbformat_minor": 2
}
