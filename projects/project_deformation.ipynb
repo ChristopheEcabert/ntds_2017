{
 "cells": [
  {
   "cell_type": "markdown",
   "metadata": {},
   "source": [
    "# Awesome NTDS project \n",
    "\n",
    "bla bla bla"
   ]
  },
  {
   "cell_type": "markdown",
   "metadata": {},
   "source": [
    "## 1. Dependencies\n",
    "\n",
    "*Matplotlib* do not cope well with large scale 3D data visualization. This can be overcomed by the use of `mayavi` package (*build on top of OpenGL pipeline*). It can be installed on your machine with the following commands:\n",
    "\n",
    "```\n",
    "$ conda install -c clinicalgraphics vtk=7.1.0\n",
    "$ pip install mayavi\n",
    "```\n",
    "\n",
    "In order to use it in a `jupyter` notebook, some extension need to be installed. The command listed below will do it:\n",
    "\n",
    "```\n",
    "$ jupyter nbextension install --py mayavi --user\n",
    "```\n"
   ]
  },
  {
   "cell_type": "code",
   "execution_count": 1,
   "metadata": {},
   "outputs": [],
   "source": [
    "from utils import *\n",
    "from mesh import *\n",
    "from deformation import *\n",
    "import numpy as np\n",
    "import os\n",
    "from scipy import sparse\n",
    "#from mayavi import mlab\n",
    "#mlab.init_notebook(local=False)\n",
    "\n",
    "# Base folder where data are located, user-specific since location\n",
    "data_folder = '../data'"
   ]
  },
  {
   "cell_type": "markdown",
   "metadata": {},
   "source": [
    "## 2. Data Analysis\n",
    "\n",
    "Can we recover some morphological properties such as facial expressions, or ethnies within the dataset ?"
   ]
  },
  {
   "cell_type": "markdown",
   "metadata": {},
   "source": [
    "## 3. Graph-based deformation learning\n",
    "\n",
    "### 3.1 Deformation field\n",
    "\n",
    "In this section, the learning of a deformation field $\\boldsymbol{d}$ using graph-based approach will be investigated in the following section.\n",
    "\n",
    "It can be formulated as follow; given a source surface $\\boldsymbol{x}_s$ can we estimate a deformation field $\\boldsymbol{d}$ using only a sparse subset of the target surface $\\boldsymbol{x}_t$."
   ]
  },
  {
   "cell_type": "code",
   "execution_count": 2,
   "metadata": {},
   "outputs": [],
   "source": [
    "# Load source + target meshes + anchors\n",
    "tri = utils.load_triangulation(os.path.join(data_folder, 'FWTri/fw_triangulation.tri'))\n",
    "meshes = utils.load_meshes(os.path.join(data_folder, 'FWMesh/115_shape.bs'), [0, 22])\n",
    "anchors = utils.load_anchor_point(os.path.join(data_folder, 'anchors.cfg'))"
   ]
  },
  {
   "cell_type": "code",
   "execution_count": 13,
   "metadata": {},
   "outputs": [],
   "source": [
    "# Create mesh instances for source and target surface\n",
    "mesh_xs = Mesh(meshes[0], tri)\n",
    "mesh_xt = Mesh(meshes[1], tri)\n",
    "N = meshes[0].shape[0]"
   ]
  },
  {
   "cell_type": "code",
   "execution_count": null,
   "metadata": {
    "scrolled": false
   },
   "outputs": [],
   "source": [
    "mlab.clf()\n",
    "fig = mlab.figure()\n",
    "color = (0.5, 0.5, 0.5)\n",
    "trimesh_xs = mlab.triangular_mesh(mesh_xs.vertex[:,0], mesh_xs.vertex[:,1], mesh_xs.vertex[:,2], mesh_xs.tri, color=color)\n",
    "mlab.view(0,0)\n",
    "fig"
   ]
  },
  {
   "cell_type": "code",
   "execution_count": null,
   "metadata": {},
   "outputs": [],
   "source": [
    "mlab.clf()\n",
    "fig = mlab.figure()\n",
    "trimesh_xt = mlab.triangular_mesh(mesh_xt.vertex[:,0], mesh_xt.vertex[:,1], mesh_xs.vertex[:,2], mesh_xt.tri, color=color)\n",
    "mlab.view(0, 0)\n",
    "fig"
   ]
  },
  {
   "cell_type": "code",
   "execution_count": 4,
   "metadata": {},
   "outputs": [],
   "source": [
    "# 1) create selection mask\n",
    "K = len(anchors)\n",
    "ridx = [k for k in range(K)]\n",
    "cidx = anchors\n",
    "data = [1.0] * K\n",
    "M = sparse.coo_matrix((data, (ridx, cidx)), shape=(K, N), dtype=np.float32)\n",
    "# 2) Comptue laplacian\n",
    "_,_, Lap = mesh_xs.compute_laplacian('cotan')\n",
    "# 3) Compute target\n",
    "Xs = mesh_xs.vertex\n",
    "Xt = M.dot(mesh_xt.vertex)"
   ]
  },
  {
   "cell_type": "code",
   "execution_count": 5,
   "metadata": {},
   "outputs": [
    {
     "name": "stdout",
     "output_type": "stream",
     "text": [
      "Mean error of %f 0.00449361\n"
     ]
    }
   ],
   "source": [
    "# 4) Estimate deformation field without regularization\n",
    "estm_xt, d = deform_regularized_anchor(Xs, Xt, M, Lap, 1.0)\n",
    "err = np.linalg.norm(estm_xt - mesh_xt.vertex, axis=1)\n",
    "e = np.mean(err)\n",
    "print('Mean error of %f', e)\n",
    "m = Mesh(estm_xt, tri)\n",
    "m.save('deformation_field.obj')"
   ]
  },
  {
   "cell_type": "code",
   "execution_count": null,
   "metadata": {},
   "outputs": [],
   "source": [
    "mlab.clf()\n",
    "fig = mlab.figure()\n",
    "trimesh_xt_estm = mlab.triangular_mesh(estm_xt[:,0], estm_xt[:,1], estm_xt[:,2], mesh_xt.tri, color=color)\n",
    "mlab.view(0, 0)\n",
    "fig"
   ]
  },
  {
   "cell_type": "markdown",
   "metadata": {},
   "source": [
    "### 3.2 Least-Square Mesh\n",
    "\n",
    "bla bla"
   ]
  },
  {
   "cell_type": "code",
   "execution_count": 14,
   "metadata": {},
   "outputs": [],
   "source": [
    "# Define only anchors around the lips\n",
    "anchorsIdx = [703, 4293, 7187, 2128, # Eyebrows\n",
    "              9397, 8972, # Nose\n",
    "              10308, 3237, 3205, 6081, 6091,6124,8832, 6611, 1827, 3582, 402, 3584] # Mouth region\n",
    "# Inner part\n",
    "# 3271, 10313, 8808, 8825, 6159, 8842, 8809, 10326\n",
    "anchors = mesh_xt.vertex[anchorsIdx, :]\n",
    "# Deform\n",
    "mesh = deform_mesh(mesh_xs, anchors, anchorsIdx, 1.0)\n",
    "estm_xt = mesh.vertex"
   ]
  },
  {
   "cell_type": "code",
   "execution_count": 15,
   "metadata": {},
   "outputs": [
    {
     "name": "stdout",
     "output_type": "stream",
     "text": [
      "Mean error: 0.246112\n"
     ]
    }
   ],
   "source": [
    "# Error\n",
    "err = np.linalg.norm(estm_xt - mesh_xt.vertex, axis=1)\n",
    "e = np.mean(err)\n",
    "\n",
    "print('Mean error: %f' % e)"
   ]
  },
  {
   "cell_type": "code",
   "execution_count": 16,
   "metadata": {},
   "outputs": [],
   "source": [
    "mesh.save('least_square_mesh.obj')"
   ]
  },
  {
   "cell_type": "code",
   "execution_count": null,
   "metadata": {},
   "outputs": [],
   "source": []
  }
 ],
 "metadata": {
  "kernelspec": {
   "display_name": "Python 3",
   "language": "python",
   "name": "python3"
  },
  "language_info": {
   "codemirror_mode": {
    "name": "ipython",
    "version": 3
   },
   "file_extension": ".py",
   "mimetype": "text/x-python",
   "name": "python",
   "nbconvert_exporter": "python",
   "pygments_lexer": "ipython3",
   "version": "3.6.4"
  }
 },
 "nbformat": 4,
 "nbformat_minor": 2
}
