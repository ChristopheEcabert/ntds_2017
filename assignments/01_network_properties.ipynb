{
 "cells": [
  {
   "cell_type": "markdown",
   "metadata": {},
   "source": [
    "# Collect and Analyze a Twitter Network\n",
    "[Effrosyni Simou](http://lts4.epfl.ch/simou), *PhD Student*, [EPFL](http://epfl.ch) [LTS4](http://lts4.epfl.ch)"
   ]
  },
  {
   "cell_type": "markdown",
   "metadata": {},
   "source": [
    "# Objective of Exercise\n",
    "The aim of this exercise is to learn how to create your own, real network using data collected from the Internet and then to discover some properties of the collected network. "
   ]
  },
  {
   "cell_type": "markdown",
   "metadata": {},
   "source": [
    "# Resources\n",
    "You might want to have a look at the following resources before starting:\n",
    "\n",
    "* [Twitter REST API](https://dev.twitter.com/rest/public)\n",
    "* [Tweepy Documentation](http://tweepy.readthedocs.io/en/v3.5.0/)\n",
    "* [Tutorial \"Mining Twitter data with Python\"](https://marcobonzanini.com/2015/03/02/mining-twitter-data-with-python-part-1/)"
   ]
  },
  {
   "cell_type": "markdown",
   "metadata": {},
   "source": [
    "# 1. Collect a Twitter Network"
   ]
  },
  {
   "cell_type": "markdown",
   "metadata": {},
   "source": [
    "In order to collect data from Twitter you will need to generate access tokens.  To do this you will need to register a [client application with Twitter](https://apps.twitter.com/). Once you are done you should have your tokens. You can now create a `credentials.ini` file as follows:\n",
    "```\n",
    "[twitter]\n",
    "consumer_key = YOUR-CONSUMER-KEY\n",
    "consumer_secret = YOUR-CONSUMER-SECRET\n",
    "access_token = YOUR-ACCESS-TOKEN\n",
    "access_secret = YOUR-ACCESS-SECRET\n",
    "```\n",
    "In this way you will have this information readily available to you. "
   ]
  },
  {
   "cell_type": "code",
   "execution_count": 1,
   "metadata": {
    "collapsed": true
   },
   "outputs": [],
   "source": [
    "%matplotlib inline\n",
    "import random\n",
    "import configparser\n",
    "import matplotlib.pyplot as plt\n",
    "import numpy as np\n",
    "from pprint import pprint\n",
    "import tweepy  # you will need to install tweepy first"
   ]
  },
  {
   "cell_type": "code",
   "execution_count": 2,
   "metadata": {
    "collapsed": true
   },
   "outputs": [],
   "source": [
    "# Read the confidential token.\n",
    "credentials = configparser.ConfigParser()\n",
    "credentials.read('credentials.ini')\n",
    "# authentication\n",
    "auth = tweepy.OAuthHandler(credentials.get('twitter', 'consumer_key'), credentials.get('twitter', 'consumer_secret'))\n",
    "auth.set_access_token(credentials.get('twitter', 'access_token'), credentials.get('twitter', 'access_secret'))\n",
    "# construct API instance, deal with rate limits and notify when delayed because of rate limits\n",
    "api = tweepy.API(auth,wait_on_rate_limit=True, wait_on_rate_limit_notify=True)"
   ]
  },
  {
   "cell_type": "markdown",
   "metadata": {},
   "source": [
    "Now you are all set up to start collecting data from Twitter! "
   ]
  },
  {
   "cell_type": "markdown",
   "metadata": {},
   "source": [
    "In this exercise we will construct a network with the following logic:\n",
    "\n",
    "1) We will chose a `user_id` in Twitter to be our first node. \n",
    "\n",
    "2) We will find (some) of the users who are both following `user_id` and are being followed by `user_id`. From now on we will call such users \"connections\" of `user_id`. We will place these user ids in a list called `first_nodes`. \n",
    "\n",
    "3) For every node in the list `first_nodes` we will then find (some) of the users who are following and are being followed by this node (aka the connections of this node). The user ids collected in this step will be placed in a list called `second_nodes`.\n",
    "\n",
    "4) The collection of the ids of all nodes (aka Twitter users) that we have collected so far will be placed in a list called `all_nodes`.\n",
    "\n",
    "5) Since we have only collected a subset of all possible \"connections\" for our nodes we have to check if there are any remaining inner connections that we have missed.\n",
    "\n",
    "The entire network is to be organized in a dictionary with entries that will have as key the Twitter id of the user (this is a number characterizing each user in Twitter) and as value the list of ids of his connections.\n",
    "\n",
    "So, let us begin. The first thing that you will have to do is to chose the node from which everything will start. I have chosen the Twitter account of [Applied Machine Learning Days](https://www.appliedmldays.org) that will take place in January 2018 in EPFL. You may change that if you wish to, but please make sure that the user you chose has both followers and friends and that he allows you to access this data."
   ]
  },
  {
   "cell_type": "code",
   "execution_count": 3,
   "metadata": {
    "collapsed": true
   },
   "outputs": [],
   "source": [
    "username = 'appliedmldays'\n",
    "user = api.get_user(username)\n",
    "user_id = user.id"
   ]
  },
  {
   "cell_type": "markdown",
   "metadata": {},
   "source": [
    "In the following cell write a function that takes as an argument the Twitter id of a user and returns a list with the **ids** of his connections. Take into account the case where a user does not allow you to access this information.\n",
    "\n",
    "**Reminder:** By connections we mean users that are both followers and friends of a given user."
   ]
  },
  {
   "cell_type": "code",
   "execution_count": 4,
   "metadata": {
    "collapsed": true
   },
   "outputs": [],
   "source": [
    "def find_connections(userid):\n",
    "    \"\"\"\n",
    "    Find connection for a given userid. (Both ID have to follow each other to be defined as connection,\n",
    "    bi-directional edge)\n",
    "    :param userid:  User to find connection with\n",
    "    :return:        Set of IDs connected to this user\n",
    "    \"\"\"\n",
    "    # Query follower and following IDs\n",
    "    connections = set()\n",
    "    try:\n",
    "        followers = [x for x in tweepy.Cursor(api.followers_ids,\n",
    "                                              user_id=userid).items()]\n",
    "        #set(api.followers_ids(user_id=userid))\n",
    "        followings = [x for x in tweepy.Cursor(api.friends_ids,\n",
    "                                              user_id=userid).items()]\n",
    "        #set(api.friends_ids(user_id=userid))\n",
    "        connections = set(followers).intersection(set(followings))\n",
    "    except tweepy.TweepError:\n",
    "        print('Can not access user properties')\n",
    "    return connections"
   ]
  },
  {
   "cell_type": "code",
   "execution_count": 6,
   "metadata": {},
   "outputs": [
    {
     "name": "stdout",
     "output_type": "stream",
     "text": [
      "appliedmldays has 139 connections\n"
     ]
    }
   ],
   "source": [
    "first_connections = find_connections(user_id)\n",
    "print('{} has {} connections'.format(username, len(first_connections)))"
   ]
  },
  {
   "cell_type": "markdown",
   "metadata": {},
   "source": [
    "Collect your `first_nodes` and `second_nodes` and organize your collected nodes and their connections in the dictionary called `network`."
   ]
  },
  {
   "cell_type": "markdown",
   "metadata": {},
   "source": [
    "Hints:\n",
    "* Use `random.choice([1,3,4])` to randomly choose a number in `[1, 3, 4]`.\n",
    "* Use the `append` and `remove` methods to add and remove an element from a Python list.\n",
    "* The `pop` method removes the last item in the list."
   ]
  },
  {
   "cell_type": "code",
   "execution_count": 7,
   "metadata": {
    "collapsed": true
   },
   "outputs": [],
   "source": [
    "def check_user_access_and_sample(userids, n=None):\n",
    "    \"\"\"\n",
    "    Check if users given in the set have protected profile. If it is the case\n",
    "    they get discarded. While checking for valid user, it is possible to\n",
    "    sample n users randomly.\n",
    "    :param userids: List of user to check their profile validity\n",
    "    :param n:       Number of user to sample\n",
    "    :return:        Selected user with non protected account\n",
    "    \"\"\"\n",
    "    # Shuffle first if needed\n",
    "    selection = set()\n",
    "    if n is not None:\n",
    "        users = np.random.permutation(list(userids))\n",
    "        N = n\n",
    "    else:\n",
    "        users = list(userids)\n",
    "        N = len(userids)\n",
    "    # start sampling\n",
    "    cnt = 0\n",
    "    for ids in users:\n",
    "        user = api.get_user(ids)\n",
    "        if not user.protected:\n",
    "            # Can access user info\n",
    "            selection.add(ids)\n",
    "            cnt += 1\n",
    "            if cnt >= N:\n",
    "                break\n",
    "        else:\n",
    "            print('User is protected, skip it')\n",
    "    return selection\n",
    "\n",
    "def second_connections(userids, n=None):\n",
    "    \"\"\"\n",
    "    Given a list IDs find connection for each of them\n",
    "    :param userids: List of IDs to find connection for\n",
    "    :param n: Number of ID to ramdonly pick from connections. If None,\n",
    "    take all of them\n",
    "    :return:    List of connections (2nd level)\n",
    "    \"\"\"\n",
    "    connections = set()\n",
    "    # Look for connections\n",
    "    for ids in userids:\n",
    "        # Query user information\n",
    "        conn = find_connections(ids)\n",
    "        conn = check_user_access_and_sample(conn, n)\n",
    "        # Add sampled connections to the already existing collection\n",
    "        connections = connections.union(conn)\n",
    "    return connections"
   ]
  },
  {
   "cell_type": "code",
   "execution_count": 27,
   "metadata": {},
   "outputs": [
    {
     "name": "stdout",
     "output_type": "stream",
     "text": [
      "User is protected, skip it\n",
      "Rate limit reached. Sleeping for: 537\n",
      "User is protected, skip it\n",
      "User is protected, skip it\n",
      "User is protected, skip it\n"
     ]
    }
   ],
   "source": [
    "network={}\n",
    "#This is the number of connections you are sampling.Keep small (e.g.3) for development, larger later (e.g. 10)\n",
    "how_many = 15\n",
    "# Collect first nodes (store in set for convenience)\n",
    "first_connections = find_connections(user_id)\n",
    "first_nodes = check_user_access_and_sample(first_connections, how_many)\n",
    "second_nodes = second_connections(first_nodes, how_many)"
   ]
  },
  {
   "cell_type": "markdown",
   "metadata": {},
   "source": [
    "**Be careful!** You should only keep a small value for the `how_many` parameter while you are developing your code. In order to answer to the questions you should raise the value of this parameter to `how_many=10` at least. This will take a while to execute because of the API rate limit (plan your time accordingly). You should also remember to submit your jupyter notebook with the **output shown for a large value of the `how_many` parameter**. "
   ]
  },
  {
   "cell_type": "code",
   "execution_count": 28,
   "metadata": {
    "collapsed": true
   },
   "outputs": [],
   "source": [
    "network[user_id] = first_nodes"
   ]
  },
  {
   "cell_type": "code",
   "execution_count": 29,
   "metadata": {},
   "outputs": [
    {
     "name": "stdout",
     "output_type": "stream",
     "text": [
      "{763052115392593920: {25260440,\n",
      "                      32172572,\n",
      "                      34566614,\n",
      "                      123969580,\n",
      "                      201991896,\n",
      "                      392695595,\n",
      "                      841497890,\n",
      "                      862060568,\n",
      "                      1398176894,\n",
      "                      2564347228,\n",
      "                      2827458676,\n",
      "                      4142688494,\n",
      "                      4887296745,\n",
      "                      702870499639095296,\n",
      "                      846330801138651136}}\n"
     ]
    }
   ],
   "source": [
    "pprint(network)"
   ]
  },
  {
   "cell_type": "code",
   "execution_count": 30,
   "metadata": {
    "collapsed": true
   },
   "outputs": [],
   "source": [
    "all_nodes = first_nodes.union(second_nodes)\n",
    "all_nodes.add(user_id)"
   ]
  },
  {
   "cell_type": "code",
   "execution_count": 31,
   "metadata": {},
   "outputs": [
    {
     "name": "stdout",
     "output_type": "stream",
     "text": [
      "There are 15 first hop nodes\n",
      "There are 153 second hop nodes\n",
      "There are overall 168 nodes in the collected network\n"
     ]
    }
   ],
   "source": [
    "print('There are {} first hop nodes'.format(len(first_nodes)))\n",
    "print('There are {} second hop nodes'.format(len(second_nodes)))\n",
    "print('There are overall {} nodes in the collected network'.format(len(all_nodes)))"
   ]
  },
  {
   "cell_type": "code",
   "execution_count": 32,
   "metadata": {
    "collapsed": true
   },
   "outputs": [],
   "source": [
    "for i in all_nodes:\n",
    "     network[i]= set()"
   ]
  },
  {
   "cell_type": "markdown",
   "metadata": {},
   "source": [
    "Find the inner connections between your collected nodes that you might have missed because you sampled the connections."
   ]
  },
  {
   "cell_type": "code",
   "execution_count": 33,
   "metadata": {},
   "outputs": [
    {
     "name": "stdout",
     "output_type": "stream",
     "text": [
      "Search connections for 702870499639095296\n",
      "Search connections for 846330801138651136\n",
      "Rate limit reached. Sleeping for: 783\n",
      "Search connections for 763052115392593920\n",
      "Search connections for 740179601503223809\n",
      "Search connections for 798092147425681409\n",
      "Search connections for 725639768663576576\n",
      "Search connections for 724532781720702976\n",
      "Search connections for 771678618711883776\n",
      "Search connections for 887968270724235265\n",
      "Search connections for 778963414756433920\n",
      "Search connections for 846431217088184321\n",
      "Search connections for 905116529141927940\n",
      "Search connections for 197593109\n",
      "Search connections for 862060568\n",
      "Search connections for 4794632221\n",
      "Search connections for 2324111390\n",
      "Rate limit reached. Sleeping for: 824\n",
      "Search connections for 2267495456\n",
      "Search connections for 2171884577\n",
      "Search connections for 51570722\n",
      "Search connections for 893928482\n",
      "Search connections for 3345454120\n",
      "Search connections for 123969580\n",
      "Search connections for 1632704557\n",
      "Search connections for 276184113\n",
      "Search connections for 287916109\n",
      "Search connections for 18881614\n",
      "Search connections for 159061069\n",
      "Search connections for 340168787\n",
      "Rate limit reached. Sleeping for: 762\n",
      "Search connections for 3300214874\n",
      "Search connections for 2773306459\n",
      "Search connections for 390233181\n",
      "Search connections for 2363300970\n",
      "Search connections for 104650858\n",
      "Search connections for 2401981555\n",
      "Search connections for 2827458676\n",
      "Search connections for 2851427444\n",
      "Search connections for 33007738\n",
      "Search connections for 1398176894\n",
      "Search connections for 788898706586275840\n",
      "Search connections for 734370815957929984\n",
      "Search connections for 807243208283525120\n",
      "Search connections for 15491205\n",
      "Search connections for 3109263509\n",
      "Rate limit reached. Sleeping for: 761\n",
      "Search connections for 140856473\n",
      "Search connections for 134603954\n",
      "Search connections for 317697215\n",
      "Search connections for 194513110\n",
      "Search connections for 3364327647\n",
      "Search connections for 4142688494\n",
      "Search connections for 3393781\n",
      "Search connections for 4901700861\n",
      "Search connections for 766438390896140288\n",
      "Search connections for 738816258\n",
      "Search connections for 889521415384440833\n",
      "Search connections for 2829446416\n",
      "Search connections for 2839825685\n",
      "Search connections for 753741078\n",
      "Search connections for 3945530657\n",
      "Rate limit reached. Sleeping for: 762\n",
      "Search connections for 841497890\n",
      "Search connections for 14252342\n",
      "Search connections for 3043306811\n",
      "Search connections for 226295119\n",
      "Search connections for 705207636\n",
      "Search connections for 1163532632\n",
      "Search connections for 2850252120\n",
      "Search connections for 2564347228\n",
      "Rate limit reached. Sleeping for: 762\n",
      "Can not access user properties\n",
      "Search connections for 1188113780\n",
      "Search connections for 362915200\n",
      "Search connections for 788868903787167744\n",
      "Search connections for 713066829288177664\n",
      "Search connections for 22501769\n",
      "Search connections for 860019092\n",
      "Search connections for 25260440\n",
      "Search connections for 384009624\n",
      "Search connections for 2443060639\n",
      "Search connections for 155682224\n",
      "Search connections for 2946581944\n",
      "Rate limit reached. Sleeping for: 762\n",
      "Search connections for 557134267\n",
      "Search connections for 769325504\n",
      "Search connections for 263659984\n",
      "Search connections for 34566614\n",
      "Search connections for 1266795990\n",
      "Search connections for 20284887\n",
      "Search connections for 1354169820\n",
      "Search connections for 205460966\n",
      "Search connections for 268360184\n",
      "Search connections for 821769650211930112\n",
      "Search connections for 3648055819\n",
      "Search connections for 876440089\n",
      "Search connections for 197662233\n",
      "Search connections for 242106907\n",
      "Search connections for 32172572\n",
      "Rate limit reached. Sleeping for: 764\n",
      "Search connections for 184543773\n",
      "Search connections for 3402736161\n",
      "Search connections for 2647648802\n",
      "Search connections for 385275436\n",
      "Search connections for 14083628\n",
      "Search connections for 755247\n",
      "Search connections for 1127919157\n",
      "Search connections for 2960089661\n",
      "Search connections for 361923147\n",
      "Search connections for 3706143317\n",
      "Search connections for 208988759\n",
      "Rate limit reached. Sleeping for: 765\n",
      "Search connections for 246342236\n",
      "Search connections for 80250475\n",
      "Search connections for 141574783\n",
      "Search connections for 2924746367\n",
      "Search connections for 795945510167334912\n",
      "Search connections for 873300612\n",
      "Search connections for 4861344390\n",
      "Search connections for 15066760\n",
      "Rate limit reached. Sleeping for: 767\n",
      "Rate limit reached. Sleeping for: 829\n",
      "Rate limit reached. Sleeping for: 829\n",
      "Rate limit reached. Sleeping for: 828\n",
      "Rate limit reached. Sleeping for: 828\n",
      "Rate limit reached. Sleeping for: 829\n",
      "Rate limit reached. Sleeping for: 829\n",
      "Rate limit reached. Sleeping for: 828\n",
      "Rate limit reached. Sleeping for: 829\n",
      "Rate limit reached. Sleeping for: 828\n",
      "Rate limit reached. Sleeping for: 828\n",
      "Rate limit reached. Sleeping for: 828\n",
      "Rate limit reached. Sleeping for: 828\n",
      "Rate limit reached. Sleeping for: 828\n",
      "Rate limit reached. Sleeping for: 828\n",
      "Rate limit reached. Sleeping for: 828\n",
      "Rate limit reached. Sleeping for: 827\n",
      "Rate limit reached. Sleeping for: 827\n",
      "Rate limit reached. Sleeping for: 825\n",
      "Rate limit reached. Sleeping for: 826\n",
      "Rate limit reached. Sleeping for: 826\n",
      "Rate limit reached. Sleeping for: 826\n",
      "Rate limit reached. Sleeping for: 826\n",
      "Rate limit reached. Sleeping for: 826\n",
      "Rate limit reached. Sleeping for: 825\n",
      "Rate limit reached. Sleeping for: 825\n",
      "Rate limit reached. Sleeping for: 826\n",
      "Rate limit reached. Sleeping for: 826\n",
      "Rate limit reached. Sleeping for: 826\n",
      "Rate limit reached. Sleeping for: 825\n",
      "Rate limit reached. Sleeping for: 824\n",
      "Rate limit reached. Sleeping for: 826\n",
      "Rate limit reached. Sleeping for: 826\n",
      "Rate limit reached. Sleeping for: 825\n",
      "Rate limit reached. Sleeping for: 825\n",
      "Rate limit reached. Sleeping for: 825\n",
      "Rate limit reached. Sleeping for: 826\n",
      "Rate limit reached. Sleeping for: 826\n",
      "Rate limit reached. Sleeping for: 825\n",
      "Rate limit reached. Sleeping for: 825\n",
      "Rate limit reached. Sleeping for: 826\n",
      "Rate limit reached. Sleeping for: 826\n",
      "Rate limit reached. Sleeping for: 827\n",
      "Rate limit reached. Sleeping for: 825\n",
      "Rate limit reached. Sleeping for: 826\n",
      "Rate limit reached. Sleeping for: 827\n",
      "Rate limit reached. Sleeping for: 826\n",
      "Rate limit reached. Sleeping for: 826\n",
      "Rate limit reached. Sleeping for: 827\n",
      "Rate limit reached. Sleeping for: 827\n",
      "Rate limit reached. Sleeping for: 827\n",
      "Rate limit reached. Sleeping for: 827\n",
      "Rate limit reached. Sleeping for: 827\n",
      "Rate limit reached. Sleeping for: 826\n",
      "Rate limit reached. Sleeping for: 828\n",
      "Rate limit reached. Sleeping for: 827\n",
      "Rate limit reached. Sleeping for: 826\n",
      "Rate limit reached. Sleeping for: 827\n",
      "Rate limit reached. Sleeping for: 827\n",
      "Rate limit reached. Sleeping for: 828\n",
      "Rate limit reached. Sleeping for: 827\n",
      "Rate limit reached. Sleeping for: 827\n",
      "Rate limit reached. Sleeping for: 827\n",
      "Rate limit reached. Sleeping for: 827\n",
      "Rate limit reached. Sleeping for: 828\n",
      "Rate limit reached. Sleeping for: 826\n",
      "Rate limit reached. Sleeping for: 827\n",
      "Rate limit reached. Sleeping for: 827\n",
      "Rate limit reached. Sleeping for: 828\n",
      "Rate limit reached. Sleeping for: 827\n",
      "Rate limit reached. Sleeping for: 827\n",
      "Rate limit reached. Sleeping for: 827\n",
      "Rate limit reached. Sleeping for: 828\n",
      "Rate limit reached. Sleeping for: 827\n",
      "Rate limit reached. Sleeping for: 827\n",
      "Rate limit reached. Sleeping for: 827\n",
      "Rate limit reached. Sleeping for: 827\n",
      "Rate limit reached. Sleeping for: 828\n",
      "Rate limit reached. Sleeping for: 827\n",
      "Rate limit reached. Sleeping for: 827\n",
      "Rate limit reached. Sleeping for: 828\n",
      "Rate limit reached. Sleeping for: 826\n",
      "Rate limit reached. Sleeping for: 826\n",
      "Rate limit reached. Sleeping for: 826\n",
      "Rate limit reached. Sleeping for: 827\n",
      "Rate limit reached. Sleeping for: 827\n",
      "Rate limit reached. Sleeping for: 826\n",
      "Search connections for 2822249097\n",
      "Rate limit reached. Sleeping for: 825\n",
      "Search connections for 2284174986\n",
      "Search connections for 2343843470\n",
      "Search connections for 2740133520\n",
      "Search connections for 84547217\n",
      "Search connections for 113527454\n",
      "Search connections for 15099561\n",
      "Search connections for 224076463\n",
      "Search connections for 2360748720\n",
      "Search connections for 113328817\n",
      "Search connections for 2832454349\n",
      "Search connections for 87419607\n",
      "Search connections for 201991896\n",
      "Search connections for 2452044510\n",
      "Search connections for 4887296745\n",
      "Search connections for 1361723136\n",
      "Rate limit reached. Sleeping for: 823\n",
      "Search connections for 754988801806721024\n"
     ]
    },
    {
     "name": "stdout",
     "output_type": "stream",
     "text": [
      "Search connections for 840230322897739776\n",
      "Search connections for 307463963\n",
      "Search connections for 335246117\n",
      "Search connections for 392695595\n",
      "Search connections for 105305900\n",
      "Search connections for 2280451885\n",
      "Search connections for 123189036\n",
      "Search connections for 289582896\n",
      "Search connections for 1112553272\n",
      "Search connections for 29921080\n",
      "Search connections for 489634618\n",
      "Search connections for 50812731\n",
      "Search connections for 73681726\n",
      "Search connections for 477855555\n",
      "Rate limit reached. Sleeping for: 821\n",
      "Search connections for 4153160533\n",
      "Search connections for 15221598\n",
      "Search connections for 2324100967\n",
      "Search connections for 1172413292\n",
      "Search connections for 1349024622\n",
      "Search connections for 2192241\n",
      "Search connections for 1192562556\n",
      "Search connections for 33315710\n",
      "Search connections for 763368160527544320\n",
      "Search connections for 721298749448974336\n",
      "Rate limit reached. Sleeping for: 820\n",
      "Search connections for 773244981645602816\n",
      "Search connections for 849184601415315456\n",
      "Search connections for 1029440414\n",
      "Search connections for 1482104738\n",
      "Search connections for 64688042\n",
      "Search connections for 214635436\n",
      "Search connections for 124310452\n",
      "Search connections for 121379768\n",
      "Search connections for 6509502\n",
      "Search connections for 457682891\n",
      "Search connections for 1288211419\n",
      "Rate limit reached. Sleeping for: 825\n",
      "Search connections for 4176964576\n",
      "Search connections for 4889162727\n",
      "Search connections for 3017564139\n",
      "Search connections for 36637683\n",
      "Search connections for 1308189691\n",
      "Rate limit reached. Sleeping for: 823\n"
     ]
    }
   ],
   "source": [
    "for ids in all_nodes:\n",
    "    print('Search connections for {}'.format(ids))\n",
    "    conn = find_connections(ids)\n",
    "    conn = conn.intersection(all_nodes)\n",
    "    network[ids] = network[ids].union(conn)\n",
    "    for c in conn:\n",
    "        network[c].add(ids)"
   ]
  },
  {
   "cell_type": "code",
   "execution_count": 112,
   "metadata": {
    "collapsed": true
   },
   "outputs": [],
   "source": [
    "# Just in case, save data\n",
    "np.save('network.npy', network) "
   ]
  },
  {
   "cell_type": "markdown",
   "metadata": {},
   "source": [
    "# 2. Discover some of the properties of the collected network"
   ]
  },
  {
   "cell_type": "markdown",
   "metadata": {},
   "source": [
    "## 2.1 Adjacency matrix"
   ]
  },
  {
   "cell_type": "markdown",
   "metadata": {},
   "source": [
    "Congradulations! You have now created a dictionary that describes a real Twitter network!\n",
    "We now want to transform this dictionary into the adjacency (or weight) matrix that you learned about in your first class. "
   ]
  },
  {
   "cell_type": "code",
   "execution_count": 34,
   "metadata": {
    "collapsed": true
   },
   "outputs": [],
   "source": [
    "# pprint(network)\n",
    "W=np.zeros([len(all_nodes),len(all_nodes)], dtype=np.int32)"
   ]
  },
  {
   "cell_type": "code",
   "execution_count": 46,
   "metadata": {},
   "outputs": [],
   "source": [
    "# your code here\n",
    "nodes = list(all_nodes)\n",
    "for i, ids in enumerate(nodes):\n",
    "    conn = list(network[ids])\n",
    "    for k in conn:\n",
    "        j = nodes.index(k)\n",
    "        W[i, j] = 1"
   ]
  },
  {
   "cell_type": "markdown",
   "metadata": {},
   "source": [
    "Remember that a weight matrix should be symmetric. Check if it is:"
   ]
  },
  {
   "cell_type": "code",
   "execution_count": 47,
   "metadata": {},
   "outputs": [
    {
     "data": {
      "text/plain": [
       "(array([], dtype=int64), array([], dtype=int64))"
      ]
     },
     "execution_count": 47,
     "metadata": {},
     "output_type": "execute_result"
    }
   ],
   "source": [
    "np.nonzero(W-W.transpose())"
   ]
  },
  {
   "cell_type": "markdown",
   "metadata": {},
   "source": [
    "**Question 1:**\n",
    "It might happen that $W \\neq W^{T} $ for some $(i,j)$. Explain why this might be the case."
   ]
  },
  {
   "cell_type": "markdown",
   "metadata": {},
   "source": [
    "**Your answer here:**\n",
    "At the moment we are considering undriected edges since both people $i$ and $j$ have to follow each other, therefore the matrix will be symmetric. However if we consider undirected edges (i.e. Person $i$ is following $j$ but $j$ is not necessarly following $i$) we'll end up with a non-symmetric matrix."
   ]
  },
  {
   "cell_type": "markdown",
   "metadata": {},
   "source": [
    "Impose your weight matrix to be symmetric."
   ]
  },
  {
   "cell_type": "code",
   "execution_count": 48,
   "metadata": {
    "collapsed": true
   },
   "outputs": [],
   "source": [
    "# Make W is symmetric\n",
    "bigger = W.transpose() > W"
   ]
  },
  {
   "cell_type": "code",
   "execution_count": 49,
   "metadata": {
    "collapsed": true
   },
   "outputs": [],
   "source": [
    "W = W - W*bigger + W.transpose()*bigger"
   ]
  },
  {
   "cell_type": "markdown",
   "metadata": {},
   "source": [
    "Plot the weight matrix of your collected network.\n",
    "\n",
    "Hint: use `plt.spy()` to visualize a matrix."
   ]
  },
  {
   "cell_type": "code",
   "execution_count": 50,
   "metadata": {},
   "outputs": [
    {
     "data": {
      "text/plain": [
       "<matplotlib.image.AxesImage at 0x7f2b764846d8>"
      ]
     },
     "execution_count": 50,
     "metadata": {},
     "output_type": "execute_result"
    },
    {
     "data": {
      "image/png": "[encoded data removed]",
      "text/plain": [
       "<matplotlib.figure.Figure at 0x7f2b7b31b5f8>"
      ]
     },
     "metadata": {},
     "output_type": "display_data"
    }
   ],
   "source": [
    "# your code here\n",
    "plt.title('Adjacency Matrix W')\n",
    "plt.spy(W)"
   ]
  },
  {
   "cell_type": "markdown",
   "metadata": {},
   "source": [
    "**Question 2:**\n",
    "What is the maximum number of links $L_{max}$ in a network with $N$ nodes (where $N$ is the number of nodes in your collected network)? How many links $L$ are there in your collected network? Comment on how $L$ and $L_{max}$ compare."
   ]
  },
  {
   "cell_type": "markdown",
   "metadata": {},
   "source": [
    "**Your answer here:**\n",
    "From the definition $L_{max} = \\frac{N\\left(N - 1\\right)}{2}$ = 14028 for the collected network. There is a total of $L = \\frac{1}{2}\\sum W_{ij} = 257$ links. It shows that the sampled  tweeter network is very sparse."
   ]
  },
  {
   "cell_type": "code",
   "execution_count": 52,
   "metadata": {},
   "outputs": [
    {
     "name": "stdout",
     "output_type": "stream",
     "text": [
      "Lmax is 14028.0\n",
      "L is 257.0\n"
     ]
    }
   ],
   "source": [
    "Lmax = len(all_nodes) * (len(all_nodes) - 1) / 2\n",
    "L = np.count_nonzero(W) / 2\n",
    "print(\"Lmax is {}\".format(Lmax))\n",
    "print(\"L is {}\".format(L))"
   ]
  },
  {
   "cell_type": "markdown",
   "metadata": {},
   "source": [
    "## 2.2 Degrees distribution"
   ]
  },
  {
   "cell_type": "markdown",
   "metadata": {},
   "source": [
    "Plot a histogram of the degree distribution. "
   ]
  },
  {
   "cell_type": "code",
   "execution_count": 109,
   "metadata": {},
   "outputs": [
    {
     "data": {
      "image/png": "[encoded data removed]",
      "text/plain": [
       "<matplotlib.figure.Figure at 0x7f2b79656cc0>"
      ]
     },
     "metadata": {},
     "output_type": "display_data"
    }
   ],
   "source": [
    "degree = []\n",
    "for ids, nodes in network.items():\n",
    "    e = len(nodes)\n",
    "    degree.append(e)\n",
    "degree.sort()\n",
    "max_degree = degree[-1]\n",
    "p = [0] * (max_degree + 1)\n",
    "for d in degree:\n",
    "    p[d] += 1\n",
    "# Normalize\n",
    "sum_p = sum(p)\n",
    "p = list(map(lambda x: float(x) / sum_p, p))\n",
    "xbin = np.arange(len(p))\n",
    "plt.bar(xbin, p, align='center', width=1.0)\n",
    "plt.title('Degree Distribution')\n",
    "plt.xlabel('Degree')\n",
    "plt.ylabel('P_k')\n",
    "plt.show()"
   ]
  },
  {
   "cell_type": "markdown",
   "metadata": {},
   "source": [
    "**Question 3:** Comment on the plot. What do you observe? Would you expect a similar degree disribution in the complete Twitter network?"
   ]
  },
  {
   "cell_type": "markdown",
   "metadata": {},
   "source": [
    "**Your answer here:**\n",
    "Most of the nodes in the sampled network have a small degree $k \\in \\left[1, 4\\right]$ and only a few nodes have a degree $k \\geq 15$. In general this is what is expected since most of the people have some connections and few people have much more than that. Regarding the complete network I would expect to have similar distribution but shifted toward higher degrees.  "
   ]
  },
  {
   "cell_type": "markdown",
   "metadata": {},
   "source": [
    "## 2.3 Average degree"
   ]
  },
  {
   "cell_type": "markdown",
   "metadata": {},
   "source": [
    "Calculate the average degree of your collected network."
   ]
  },
  {
   "cell_type": "code",
   "execution_count": 54,
   "metadata": {},
   "outputs": [
    {
     "name": "stdout",
     "output_type": "stream",
     "text": [
      "Average degree: 3.060\n"
     ]
    }
   ],
   "source": [
    "d_avg = 2 * L / len(all_nodes)\n",
    "print('Average degree: {0:.3f}'.format(d_avg))"
   ]
  },
  {
   "cell_type": "markdown",
   "metadata": {},
   "source": [
    "## 2.4 Diameter of the collected network"
   ]
  },
  {
   "cell_type": "markdown",
   "metadata": {},
   "source": [
    "**Question 4:** What is the diameter of the collected network? Please justify."
   ]
  },
  {
   "cell_type": "markdown",
   "metadata": {},
   "source": [
    "$$\\begin{align}d_{max} &= \\max N_{i,j} \\quad \\forall i,j \\\\ &= 16\\end{align}$$"
   ]
  },
  {
   "cell_type": "code",
   "execution_count": 55,
   "metadata": {},
   "outputs": [
    {
     "name": "stdout",
     "output_type": "stream",
     "text": [
      "Network diameter: 16\n"
     ]
    }
   ],
   "source": [
    "def longer_path(net):\n",
    "    \"\"\"\n",
    "    Compute the longest shortest path for a given network using BFS approach\n",
    "    :param net: Network to find the diameter\n",
    "    :return:    Diameter of the given network\n",
    "    \"\"\"\n",
    "    nodes = list(net.keys())\n",
    "    N = len(nodes)\n",
    "    max_d = 0\n",
    "    for i, node in enumerate(nodes):\n",
    "        visited = [False] * N\n",
    "        dist = [-1] * N\n",
    "        stack = []\n",
    "        stack.append(node)\n",
    "        dist[i] = 0\n",
    "        while len(stack) != 0:\n",
    "            curr_n = stack.pop()\n",
    "            curr_idx = nodes.index(curr_n)\n",
    "            # Check if already visited\n",
    "            if not visited[curr_idx]:\n",
    "                visited[curr_idx] = True\n",
    "                d = dist[curr_idx]\n",
    "                # Label other\n",
    "                childs = list(net[curr_n])\n",
    "                for c in childs:\n",
    "                    if dist[nodes.index(c)] == -1:\n",
    "                        dist[nodes.index(c)] = d + 1\n",
    "                    stack.append(c)\n",
    "        max_d = max([max_d, max(dist)])\n",
    "    return max_d\n",
    "\n",
    "dmax = longer_path(network)\n",
    "print('Network diameter: {}'.format(dmax))"
   ]
  },
  {
   "cell_type": "markdown",
   "metadata": {},
   "source": [
    "## 2.5 Pruning the collected network"
   ]
  },
  {
   "cell_type": "markdown",
   "metadata": {},
   "source": [
    "You might notice that some nodes have very few connections and hence our matrix is very sparse. Prune the collected network so that you keep only the nodes that have a degree that is greater than the average degree and plot the new adjacency matrix."
   ]
  },
  {
   "cell_type": "code",
   "execution_count": 110,
   "metadata": {},
   "outputs": [
    {
     "name": "stdout",
     "output_type": "stream",
     "text": [
      "There are 35 nodes left, initially 168, iter 168\n"
     ]
    },
    {
     "data": {
      "text/plain": [
       "(array([], dtype=int64), array([], dtype=int64))"
      ]
     },
     "execution_count": 110,
     "metadata": {},
     "output_type": "execute_result"
    }
   ],
   "source": [
    "# Find how many nodes have a degree higher than <k>\n",
    "pruned_nodes = []\n",
    "for ids, childs in network.items():\n",
    "    k = float(len(childs))\n",
    "    if k > d_avg:\n",
    "        # print('{}, {} as a degree of {}'.format(cnt, ids, k))\n",
    "        pruned_nodes.append(ids)\n",
    "print('There are {} nodes left, initially {}, iter {}'.format(len(pruned_nodes), len(all_nodes), cnt))\n",
    "# Prune the collected network\n",
    "pruned_network = {}\n",
    "for ids, conn in network.items():\n",
    "    # ids survived ?\n",
    "    if ids in pruned_nodes:\n",
    "        links = set()\n",
    "        for c in conn:\n",
    "            if c in pruned_nodes:\n",
    "                links.add(c)\n",
    "        pruned_network[ids] = links\n",
    "# Init adjacency matrix with proper dimension + fill it\n",
    "Wpruned = np.zeros([len(pruned_nodes),len(pruned_nodes)], dtype=np.int32)\n",
    "for i, ids in enumerate(pruned_nodes):\n",
    "    conn = list(pruned_network[ids])\n",
    "    for k in conn:\n",
    "        j = pruned_nodes.index(k)\n",
    "        Wpruned[i, j] = 1\n",
    "# Sanity check\n",
    "np.nonzero(Wpruned - Wpruned.transpose())"
   ]
  },
  {
   "cell_type": "code",
   "execution_count": 111,
   "metadata": {},
   "outputs": [
    {
     "data": {
      "text/plain": [
       "<matplotlib.image.AxesImage at 0x7f2b796516a0>"
      ]
     },
     "execution_count": 111,
     "metadata": {},
     "output_type": "execute_result"
    },
    {
     "data": {
      "image/png": "[encoded data removed]",
      "text/plain": [
       "<matplotlib.figure.Figure at 0x7f2b6e7f9a90>"
      ]
     },
     "metadata": {},
     "output_type": "display_data"
    }
   ],
   "source": [
    "plt.title('Adjacency Matrix Wpruned')\n",
    "plt.spy(Wpruned)"
   ]
  },
  {
   "cell_type": "code",
   "execution_count": null,
   "metadata": {
    "collapsed": true
   },
   "outputs": [],
   "source": []
  }
 ],
 "metadata": {
  "kernelspec": {
   "display_name": "Python 3",
   "language": "python",
   "name": "python3"
  },
  "language_info": {
   "codemirror_mode": {
    "name": "ipython",
    "version": 3
   },
   "file_extension": ".py",
   "mimetype": "text/x-python",
   "name": "python",
   "nbconvert_exporter": "python",
   "pygments_lexer": "ipython3",
   "version": "3.6.1"
  }
 },
 "nbformat": 4,
 "nbformat_minor": 1
}
