{
 "cells": [
  {
   "cell_type": "markdown",
   "metadata": {},
   "source": [
    "# Collect and Analyze a Twitter Network\n",
    "[Effrosyni Simou](http://lts4.epfl.ch/simou), *PhD Student*, [EPFL](http://epfl.ch) [LTS4](http://lts4.epfl.ch)"
   ]
  },
  {
   "cell_type": "markdown",
   "metadata": {},
   "source": [
    "# Objective of Exercise\n",
    "The aim of this exercise is to learn how to create your own, real network using data collected from the Internet and then to discover some properties of the collected network. "
   ]
  },
  {
   "cell_type": "markdown",
   "metadata": {},
   "source": [
    "# Resources\n",
    "You might want to have a look at the following resources before starting:\n",
    "\n",
    "* [Twitter REST API](https://dev.twitter.com/rest/public)\n",
    "* [Tweepy Documentation](http://tweepy.readthedocs.io/en/v3.5.0/)\n",
    "* [Tutorial \"Mining Twitter data with Python\"](https://marcobonzanini.com/2015/03/02/mining-twitter-data-with-python-part-1/)"
   ]
  },
  {
   "cell_type": "markdown",
   "metadata": {},
   "source": [
    "# 1. Collect a Twitter Network"
   ]
  },
  {
   "cell_type": "markdown",
   "metadata": {},
   "source": [
    "In order to collect data from Twitter you will need to generate access tokens.  To do this you will need to register a [client application with Twitter](https://apps.twitter.com/). Once you are done you should have your tokens. You can now create a `credentials.ini` file as follows:\n",
    "```\n",
    "[twitter]\n",
    "consumer_key = YOUR-CONSUMER-KEY\n",
    "consumer_secret = YOUR-CONSUMER-SECRET\n",
    "access_token = YOUR-ACCESS-TOKEN\n",
    "access_secret = YOUR-ACCESS-SECRET\n",
    "```\n",
    "In this way you will have this information readily available to you. "
   ]
  },
  {
   "cell_type": "code",
   "execution_count": 1,
   "metadata": {
    "collapsed": true
   },
   "outputs": [],
   "source": [
    "%matplotlib inline\n",
    "import random\n",
    "import configparser\n",
    "import matplotlib.pyplot as plt\n",
    "import numpy as np\n",
    "from pprint import pprint\n",
    "import tweepy  # you will need to install tweepy first"
   ]
  },
  {
   "cell_type": "code",
   "execution_count": 2,
   "metadata": {
    "collapsed": true
   },
   "outputs": [],
   "source": [
    "# Read the confidential token.\n",
    "credentials = configparser.ConfigParser()\n",
    "credentials.read('credentials.ini')\n",
    "# authentication\n",
    "auth = tweepy.OAuthHandler(credentials.get('twitter', 'consumer_key'), credentials.get('twitter', 'consumer_secret'))\n",
    "auth.set_access_token(credentials.get('twitter', 'access_token'), credentials.get('twitter', 'access_secret'))\n",
    "# construct API instance, deal with rate limits and notify when delayed because of rate limits\n",
    "api = tweepy.API(auth,wait_on_rate_limit=True, wait_on_rate_limit_notify=True)"
   ]
  },
  {
   "cell_type": "markdown",
   "metadata": {},
   "source": [
    "Now you are all set up to start collecting data from Twitter! "
   ]
  },
  {
   "cell_type": "markdown",
   "metadata": {},
   "source": [
    "In this exercise we will construct a network with the following logic:\n",
    "\n",
    "1) We will chose a `user_id` in Twitter to be our first node. \n",
    "\n",
    "2) We will find (some) of the users who are both following `user_id` and are being followed by `user_id`. From now on we will call such users \"connections\" of `user_id`. We will place these user ids in a list called `first_nodes`. \n",
    "\n",
    "3) For every node in the list `first_nodes` we will then find (some) of the users who are following and are being followed by this node (aka the connections of this node). The user ids collected in this step will be placed in a list called `second_nodes`.\n",
    "\n",
    "4) The collection of the ids of all nodes (aka Twitter users) that we have collected so far will be placed in a list called `all_nodes`.\n",
    "\n",
    "5) Since we have only collected a subset of all possible \"connections\" for our nodes we have to check if there are any remaining inner connections that we have missed.\n",
    "\n",
    "The entire network is to be organized in a dictionary with entries that will have as key the Twitter id of the user (this is a number characterizing each user in Twitter) and as value the list of ids of his connections.\n",
    "\n",
    "So, let us begin. The first thing that you will have to do is to chose the node from which everything will start. I have chosen the Twitter account of [Applied Machine Learning Days](https://www.appliedmldays.org) that will take place in January 2018 in EPFL. You may change that if you wish to, but please make sure that the user you chose has both followers and friends and that he allows you to access this data."
   ]
  },
  {
   "cell_type": "code",
   "execution_count": 19,
   "metadata": {
    "collapsed": true
   },
   "outputs": [],
   "source": [
    "username = 'appliedmldays'\n",
    "user = api.get_user(username)\n",
    "user_id = user.id"
   ]
  },
  {
   "cell_type": "markdown",
   "metadata": {},
   "source": [
    "In the following cell write a function that takes as an argument the Twitter id of a user and returns a list with the **ids** of his connections. Take into account the case where a user does not allow you to access this information.\n",
    "\n",
    "**Reminder:** By connections we mean users that are both followers and friends of a given user."
   ]
  },
  {
   "cell_type": "code",
   "execution_count": 194,
   "metadata": {
    "collapsed": true
   },
   "outputs": [],
   "source": [
    "def find_connections(userid, n=None):\n",
    "    \"\"\"\n",
    "    Find connection for a given userid. (Both ID have to follow each other to be defined as connection,\n",
    "    bi-directional edge)\n",
    "    :param userid:  User to find connection with\n",
    "    :param n:       Sampling factor\n",
    "    :return:        Set of IDs connected to this user\n",
    "    \"\"\"\n",
    "    # Query follower and following IDs\n",
    "    try:\n",
    "        followers = set(api.followers_ids(user_id=userid))\n",
    "        followings = set(api.friends_ids(user_id=userid))\n",
    "        connections = followers.intersection(followings)\n",
    "        if n is not None:\n",
    "            connections = set(np.random.permutation(list(connections))[0:n])\n",
    "    except tweepy.TweepError:\n",
    "        print('Can not access user properties')\n",
    "        connections = set()\n",
    "    return connections"
   ]
  },
  {
   "cell_type": "code",
   "execution_count": 206,
   "metadata": {},
   "outputs": [
    {
     "name": "stdout",
     "output_type": "stream",
     "text": [
      "appliedmldays has 139 connections\n"
     ]
    }
   ],
   "source": [
    "first_connections = find_connections(user_id)\n",
    "print('{} has {} connections'.format(username, len(first_connections)))"
   ]
  },
  {
   "cell_type": "markdown",
   "metadata": {},
   "source": [
    "Collect your `first_nodes` and `second_nodes` and organize your collected nodes and their connections in the dictionary called `network`."
   ]
  },
  {
   "cell_type": "markdown",
   "metadata": {},
   "source": [
    "Hints:\n",
    "* Use `random.choice([1,3,4])` to randomly choose a number in `[1, 3, 4]`.\n",
    "* Use the `append` and `remove` methods to add and remove an element from a Python list.\n",
    "* The `pop` method removes the last item in the list."
   ]
  },
  {
   "cell_type": "code",
   "execution_count": 262,
   "metadata": {
    "collapsed": true
   },
   "outputs": [],
   "source": [
    "def second_connections(userids, n=None):\n",
    "    \"\"\"\n",
    "    Given a list IDs find connection for each of them\n",
    "    :param userids: List of IDs to find connection for\n",
    "    :param n: Number of ID to ramdonly pick from :connections:. If None, take all of them\n",
    "    :return:    List of connections (2nd level)\n",
    "    \"\"\"\n",
    "    N = n if n is not None else len(userids)\n",
    "    connections = set()\n",
    "    # Sample input if asked\n",
    "    if n is not None:\n",
    "        sel = np.random.permutation(list(userids))\n",
    "    else:\n",
    "        sel = list(userids)\n",
    "    # Look for connections\n",
    "    cnt = 0\n",
    "    for ids in userids:\n",
    "        conn = find_connections(ids, n) \n",
    "        if len(conn) > 0:\n",
    "            connections = connections.union(conn)\n",
    "            cnt += 1\n",
    "            if cnt > N:\n",
    "                break\n",
    "    return connections"
   ]
  },
  {
   "cell_type": "code",
   "execution_count": 263,
   "metadata": {},
   "outputs": [
    {
     "name": "stdout",
     "output_type": "stream",
     "text": [
      "Rate limit reached. Sleeping for: 461\n"
     ]
    }
   ],
   "source": [
    "network={}\n",
    "#This is the number of connections you are sampling.Keep small (e.g.3) for development, larger later (e.g. 10)\n",
    "how_many = 15\n",
    "# Collect first nodes (store in set for convenience)\n",
    "first_nodes = find_connections(user_id, how_many)\n",
    "second_nodes = second_connections(first_nodes, how_many)"
   ]
  },
  {
   "cell_type": "markdown",
   "metadata": {},
   "source": [
    "**Be careful!** You should only keep a small value for the `how_many` parameter while you are developing your code. In order to answer to the questions you should raise the value of this parameter to `how_many=10` at least. This will take a while to execute because of the API rate limit (plan your time accordingly). You should also remember to submit your jupyter notebook with the **output shown for a large value of the `how_many` parameter**. "
   ]
  },
  {
   "cell_type": "code",
   "execution_count": 264,
   "metadata": {},
   "outputs": [],
   "source": [
    "network[user_id] = first_nodes"
   ]
  },
  {
   "cell_type": "code",
   "execution_count": 265,
   "metadata": {},
   "outputs": [
    {
     "name": "stdout",
     "output_type": "stream",
     "text": [
      "{763052115392593920: {25260440,\n",
      "                      54089550,\n",
      "                      79560366,\n",
      "                      110071089,\n",
      "                      215344270,\n",
      "                      272511442,\n",
      "                      381054288,\n",
      "                      412275369,\n",
      "                      2174341961,\n",
      "                      2533212240,\n",
      "                      2827458676,\n",
      "                      2965901567,\n",
      "                      3247516406,\n",
      "                      4142688494,\n",
      "                      885454501989294081}}\n"
     ]
    }
   ],
   "source": [
    "pprint(network)"
   ]
  },
  {
   "cell_type": "code",
   "execution_count": 266,
   "metadata": {},
   "outputs": [],
   "source": [
    "all_nodes = first_nodes.union(second_nodes)\n",
    "all_nodes.add(user_id)"
   ]
  },
  {
   "cell_type": "code",
   "execution_count": 267,
   "metadata": {},
   "outputs": [
    {
     "name": "stdout",
     "output_type": "stream",
     "text": [
      "There are 15 first hop nodes\n",
      "There are 173 second hop nodes\n",
      "There are overall 188 nodes in the collected network\n"
     ]
    }
   ],
   "source": [
    "print('There are {} first hop nodes'.format(len(first_nodes)))\n",
    "print('There are {} second hop nodes'.format(len(second_nodes)))\n",
    "print('There are overall {} nodes in the collected network'.format(len(all_nodes)))"
   ]
  },
  {
   "cell_type": "code",
   "execution_count": 268,
   "metadata": {
    "collapsed": true
   },
   "outputs": [],
   "source": [
    "for i in all_nodes:\n",
    "     network[i]= set()"
   ]
  },
  {
   "cell_type": "markdown",
   "metadata": {},
   "source": [
    "Find the inner connections between your collected nodes that you might have missed because you sampled the connections."
   ]
  },
  {
   "cell_type": "code",
   "execution_count": 270,
   "metadata": {},
   "outputs": [
    {
     "name": "stdout",
     "output_type": "stream",
     "text": [
      "Search connections for 715659434400333824\n",
      "Search connections for 885454501989294081\n",
      "Search connections for 821205828094939137\n",
      "Search connections for 758236282531287040\n",
      "Search connections for 845073891231981568\n",
      "Rate limit reached. Sleeping for: 528\n",
      "Search connections for 751679524614578176\n",
      "Search connections for 709450714016301056\n",
      "Search connections for 726504574547193856\n",
      "Search connections for 824821752773693442\n",
      "Search connections for 862774661603618816\n",
      "Search connections for 763052115392593920\n",
      "Search connections for 3000977415\n",
      "Search connections for 198095876\n",
      "Search connections for 885643395183525892\n",
      "Search connections for 10169362\n",
      "Search connections for 197593109\n",
      "Search connections for 56455192\n",
      "Search connections for 125637663\n",
      "Search connections for 40189989\n",
      "Search connections for 540776486\n",
      "Rate limit reached. Sleeping for: 891\n",
      "Search connections for 2318509094\n",
      "Search connections for 94305347\n",
      "Search connections for 2533212240\n",
      "Search connections for 3072512080\n",
      "Search connections for 1438522452\n",
      "Search connections for 74773590\n",
      "Search connections for 253592665\n",
      "Search connections for 21773404\n",
      "Search connections for 2418603105\n",
      "Search connections for 502331492\n",
      "Search connections for 519769200\n",
      "Search connections for 8688752\n",
      "Search connections for 2827458676\n",
      "Search connections for 16833653\n",
      "Search connections for 1467737210\n",
      "Rate limit reached. Sleeping for: 892\n",
      "Search connections for 149475451\n",
      "Search connections for 12151932\n",
      "Search connections for 195711101\n",
      "Search connections for 768378602090074112\n",
      "Search connections for 793606960687878144\n",
      "Search connections for 781391467780640768\n",
      "Search connections for 25655427\n",
      "Search connections for 861538898979295232\n",
      "Search connections for 215344270\n",
      "Search connections for 97416338\n",
      "Search connections for 2993647767\n",
      "Search connections for 140856473\n",
      "Search connections for 802182307\n",
      "Search connections for 87223459\n",
      "Search connections for 79025322\n",
      "Rate limit reached. Sleeping for: 891\n",
      "Search connections for 2349231\n",
      "Search connections for 1337310386\n",
      "Search connections for 599665849\n",
      "Search connections for 37018815\n",
      "Can not access user properties\n",
      "Search connections for 16407746\n",
      "Search connections for 46629061\n",
      "Search connections for 3242711248\n",
      "Search connections for 123476188\n",
      "Search connections for 2343198944\n",
      "Search connections for 15076583\n",
      "Search connections for 4142688494\n",
      "Search connections for 109797614\n",
      "Search connections for 176063730\n",
      "Search connections for 437631226\n",
      "Search connections for 2965901567\n",
      "Rate limit reached. Sleeping for: 891\n",
      "Search connections for 260656385\n",
      "Search connections for 738816258\n",
      "Search connections for 617118982\n",
      "Search connections for 28809483\n",
      "Search connections for 9810192\n",
      "Search connections for 17473812\n",
      "Search connections for 2839825685\n",
      "Search connections for 363557147\n",
      "Can not access user properties\n",
      "Search connections for 2723648796\n",
      "Search connections for 519115046\n",
      "Search connections for 110071089\n",
      "Search connections for 2583902516\n",
      "Search connections for 2956708162\n",
      "Search connections for 3029735751\n",
      "Search connections for 381054288\n",
      "Rate limit reached. Sleeping for: 892\n",
      "Search connections for 2850252120\n",
      "Search connections for 2978233702\n",
      "Search connections for 3245940073\n",
      "Search connections for 3012906360\n",
      "Search connections for 44104064\n",
      "Search connections for 835054647148752896\n",
      "Search connections for 2428017044\n",
      "Search connections for 25260440\n",
      "Search connections for 14177696\n",
      "Search connections for 34058666\n",
      "Search connections for 134823343\n",
      "Search connections for 2180571570\n",
      "Search connections for 555031989\n",
      "Search connections for 33455545\n",
      "Search connections for 9659842\n",
      "Rate limit reached. Sleeping for: 892\n",
      "Search connections for 1523091908\n",
      "Search connections for 166008261\n",
      "Search connections for 824548915630505984\n",
      "Search connections for 389983697\n",
      "Search connections for 272511442\n",
      "Search connections for 35720658\n",
      "Search connections for 107668959\n",
      "Search connections for 2546751972\n",
      "Search connections for 15319524\n",
      "Search connections for 2544703982\n",
      "Search connections for 7305712\n",
      "Search connections for 47451636\n",
      "Search connections for 359962102\n",
      "Search connections for 1853880823\n",
      "Search connections for 312630783\n",
      "Rate limit reached. Sleeping for: 891\n",
      "Search connections for 215557634\n",
      "Search connections for 2357079560\n",
      "Search connections for 3405424143\n",
      "Search connections for 95678998\n",
      "Search connections for 5386782\n",
      "Search connections for 2970597923\n",
      "Search connections for 74956332\n",
      "Search connections for 1215618614\n",
      "Search connections for 565195328\n",
      "Search connections for 392394305\n",
      "Search connections for 944709199\n",
      "Search connections for 303769199\n",
      "Search connections for 34037367\n",
      "Search connections for 40953465\n",
      "Search connections for 75720316\n",
      "Rate limit reached. Sleeping for: 891\n",
      "Search connections for 192812670\n",
      "Search connections for 795945510167334912\n",
      "Search connections for 3900947073\n",
      "Search connections for 852386685480456192\n",
      "Search connections for 831846976966840321\n",
      "Search connections for 14755464\n",
      "Search connections for 2740133520\n",
      "Search connections for 1927804574\n",
      "Search connections for 412275369\n",
      "Search connections for 79560366\n",
      "Search connections for 3326775988\n",
      "Search connections for 545024694\n",
      "Search connections for 3073149622\n",
      "Search connections for 1499201215\n",
      "Search connections for 179893965\n",
      "Rate limit reached. Sleeping for: 892\n",
      "Search connections for 3087305427\n",
      "Search connections for 57117406\n",
      "Search connections for 1535945444\n",
      "Search connections for 130723557\n",
      "Search connections for 1675471602\n",
      "Search connections for 3247516406\n",
      "Search connections for 19908349\n",
      "Search connections for 840230322897739776\n",
      "Search connections for 874210415777112064\n",
      "Search connections for 706885331224813568\n",
      "Search connections for 2666305284\n",
      "Search connections for 91450129\n",
      "Search connections for 49751826\n",
      "Can not access user properties\n",
      "Search connections for 1162620698\n",
      "Search connections for 191029020\n",
      "Rate limit reached. Sleeping for: 892\n",
      "Search connections for 419049247\n",
      "Search connections for 14262063\n",
      "Search connections for 29921080\n",
      "Search connections for 249786168\n",
      "Search connections for 577195836\n",
      "Search connections for 253725507\n",
      "Search connections for 125998918\n",
      "Search connections for 2174341961\n",
      "Search connections for 54089550\n",
      "Search connections for 22920022\n",
      "Search connections for 15221598\n",
      "Search connections for 149093222\n",
      "Search connections for 82630510\n",
      "Search connections for 847404918\n",
      "Search connections for 230049663\n",
      "Rate limit reached. Sleeping for: 891\n",
      "Search connections for 702870499639095296\n",
      "Search connections for 359024514\n",
      "Search connections for 178525062\n",
      "Search connections for 330391433\n",
      "Search connections for 6421402\n",
      "Search connections for 17270684\n",
      "Search connections for 186784672\n",
      "Search connections for 217771939\n",
      "Search connections for 397513638\n",
      "Search connections for 183745446\n",
      "Search connections for 926807978\n",
      "Search connections for 3252424625\n",
      "Search connections for 946065337\n",
      "Search connections for 370356158\n",
      "Search connections for 58767314\n",
      "Rate limit reached. Sleeping for: 891\n",
      "Search connections for 89448412\n",
      "Search connections for 3098988520\n",
      "Search connections for 337581052\n"
     ]
    }
   ],
   "source": [
    "for ids in all_nodes:\n",
    "    print('Search connections for {}'.format(ids))\n",
    "    conn = find_connections(ids)\n",
    "    conn = conn.intersection(all_nodes)\n",
    "    network[ids] = network[ids].union(conn)\n",
    "    for c in conn:\n",
    "        network[c].add(ids)"
   ]
  },
  {
   "cell_type": "markdown",
   "metadata": {},
   "source": [
    "# 2. Discover some of the properties of the collected network"
   ]
  },
  {
   "cell_type": "markdown",
   "metadata": {},
   "source": [
    "## 2.1 Adjacency matrix"
   ]
  },
  {
   "cell_type": "markdown",
   "metadata": {},
   "source": [
    "Congradulations! You have now created a dictionary that describes a real Twitter network!\n",
    "We now want to transform this dictionary into the adjacency (or weight) matrix that you learned about in your first class. "
   ]
  },
  {
   "cell_type": "code",
   "execution_count": 271,
   "metadata": {},
   "outputs": [],
   "source": [
    "# pprint(network)\n",
    "W=np.zeros([len(all_nodes),len(all_nodes)], dtype=np.int32)"
   ]
  },
  {
   "cell_type": "code",
   "execution_count": 272,
   "metadata": {},
   "outputs": [
    {
     "data": {
      "text/plain": [
       "<matplotlib.image.AxesImage at 0x11968f470>"
      ]
     },
     "execution_count": 272,
     "metadata": {},
     "output_type": "execute_result"
    },
    {
     "data": {
      "image/png": "[encoded data removed]",
      "text/plain": [
       "<matplotlib.figure.Figure at 0x11870ef60>"
      ]
     },
     "metadata": {},
     "output_type": "display_data"
    }
   ],
   "source": [
    "# your code here\n",
    "nodes = list(all_nodes)\n",
    "for i, ids in enumerate(nodes):\n",
    "    conn = list(network[ids])\n",
    "    for k in conn:\n",
    "        j = nodes.index(k)\n",
    "        W[i, j] = 1\n",
    "plt.spy(W)"
   ]
  },
  {
   "cell_type": "markdown",
   "metadata": {},
   "source": [
    "Remember that a weight matrix should be symmetric. Check if it is:"
   ]
  },
  {
   "cell_type": "code",
   "execution_count": 273,
   "metadata": {},
   "outputs": [
    {
     "data": {
      "text/plain": [
       "(array([], dtype=int64), array([], dtype=int64))"
      ]
     },
     "execution_count": 273,
     "metadata": {},
     "output_type": "execute_result"
    }
   ],
   "source": [
    "np.nonzero(W-W.transpose())"
   ]
  },
  {
   "cell_type": "markdown",
   "metadata": {},
   "source": [
    "**Question 1:**\n",
    "It might happen that $W \\neq W^{T} $ for some $(i,j)$. Explain why this might be the case."
   ]
  },
  {
   "cell_type": "markdown",
   "metadata": {},
   "source": [
    "**Your answer here:**\n",
    "At the moment we are considering undriected edges since both people $i$ and $j$ have to follow each other, therefore the matrix will be symmetric. However if we consider undirected edges (i.e. Person $i$ is following $j$ but $j$ is not necessarly following $i$)  will end up with a non-symmetric matrix."
   ]
  },
  {
   "cell_type": "markdown",
   "metadata": {},
   "source": [
    "Impose your weight matrix to be symmetric."
   ]
  },
  {
   "cell_type": "code",
   "execution_count": 274,
   "metadata": {
    "collapsed": true
   },
   "outputs": [],
   "source": [
    "# Make W is symmetric\n",
    "bigger = W.transpose() > W"
   ]
  },
  {
   "cell_type": "code",
   "execution_count": 275,
   "metadata": {
    "collapsed": true
   },
   "outputs": [],
   "source": [
    "W = W - W*bigger + W.transpose()*bigger"
   ]
  },
  {
   "cell_type": "markdown",
   "metadata": {},
   "source": [
    "Plot the weight matrix of your collected network.\n",
    "\n",
    "Hint: use `plt.spy()` to visualize a matrix."
   ]
  },
  {
   "cell_type": "code",
   "execution_count": 276,
   "metadata": {},
   "outputs": [
    {
     "data": {
      "text/plain": [
       "<matplotlib.image.AxesImage at 0x1198107f0>"
      ]
     },
     "execution_count": 276,
     "metadata": {},
     "output_type": "execute_result"
    },
    {
     "data": {
      "image/png": "[encoded data removed]",
      "text/plain": [
       "<matplotlib.figure.Figure at 0x118c707b8>"
      ]
     },
     "metadata": {},
     "output_type": "display_data"
    }
   ],
   "source": [
    "# your code here\n",
    "plt.title('Adjacency Matrix W')\n",
    "plt.spy(W)"
   ]
  },
  {
   "cell_type": "markdown",
   "metadata": {},
   "source": [
    "**Question 2:**\n",
    "What is the maximum number of links $L_{max}$ in a network with $N$ nodes (where $N$ is the number of nodes in your collected network)? How many links $L$ are there in your collected network? Comment on how $L$ and $L_{max}$ compare."
   ]
  },
  {
   "cell_type": "markdown",
   "metadata": {},
   "source": [
    "**Your answer here:**\n",
    "From the definition:\n",
    "$$L_{max} = \\frac{N\\left(N - 1\\right)}{2}$$"
   ]
  },
  {
   "cell_type": "code",
   "execution_count": 277,
   "metadata": {},
   "outputs": [
    {
     "name": "stdout",
     "output_type": "stream",
     "text": [
      "Lmax is 17578.0\n",
      "L is 376.0\n"
     ]
    }
   ],
   "source": [
    "Lmax = len(all_nodes) * (len(all_nodes) - 1) / 2\n",
    "L = np.count_nonzero(W) / 2\n",
    "print(\"Lmax is {}\".format(Lmax))\n",
    "print(\"L is {}\".format(L))"
   ]
  },
  {
   "cell_type": "markdown",
   "metadata": {},
   "source": [
    "## 2.2 Degrees distribution"
   ]
  },
  {
   "cell_type": "markdown",
   "metadata": {},
   "source": [
    "Plot a histogram of the degree distribution. "
   ]
  },
  {
   "cell_type": "code",
   "execution_count": 278,
   "metadata": {},
   "outputs": [
    {
     "data": {
      "image/png": "[encoded data removed]",
      "text/plain": [
       "<matplotlib.figure.Figure at 0x11975bc88>"
      ]
     },
     "metadata": {},
     "output_type": "display_data"
    }
   ],
   "source": [
    "degree = []\n",
    "for nodes in network.values():\n",
    "    e = len(nodes)\n",
    "    degree.append(e)\n",
    "degree.sort()\n",
    "max_degree = degree[-1]\n",
    "p = [0] * (max_degree + 1)\n",
    "for d in degree:\n",
    "    p[d] += 1\n",
    "# Normalize\n",
    "p = list(map(lambda x: float(x) / sum(p), p))\n",
    "xbin = np.arange(len(p))\n",
    "plt.bar(xbin, p, align='center', width=0.5)\n",
    "plt.title('Degree Distribution')\n",
    "plt.xlabel('Degree')\n",
    "plt.ylabel('P_k')\n",
    "plt.show()"
   ]
  },
  {
   "cell_type": "markdown",
   "metadata": {},
   "source": [
    "**Question 3:** Comment on the plot. What do you observe? Would you expect a similar degree disribution in the complete Twitter network?"
   ]
  },
  {
   "cell_type": "markdown",
   "metadata": {},
   "source": [
    "**Your answer here:**"
   ]
  },
  {
   "cell_type": "markdown",
   "metadata": {},
   "source": [
    "## 2.3 Average degree"
   ]
  },
  {
   "cell_type": "markdown",
   "metadata": {},
   "source": [
    "Calculate the average degree of your collected network."
   ]
  },
  {
   "cell_type": "code",
   "execution_count": 279,
   "metadata": {},
   "outputs": [
    {
     "name": "stdout",
     "output_type": "stream",
     "text": [
      "Average degree: 4.000\n"
     ]
    }
   ],
   "source": [
    "d_avg = 2 * L / len(all_nodes)\n",
    "print('Average degree: {0:.3f}'.format(d_avg))"
   ]
  },
  {
   "cell_type": "markdown",
   "metadata": {},
   "source": [
    "## 2.4 Diameter of the collected network"
   ]
  },
  {
   "cell_type": "markdown",
   "metadata": {},
   "source": [
    "**Question 4:** What is the diameter of the collected network? Please justify."
   ]
  },
  {
   "cell_type": "markdown",
   "metadata": {},
   "source": [
    "$$\\begin{align}d_{max} &= \\max N_{i,j} \\quad \\forall i,j \\\\ &= 16\\end{align}$$"
   ]
  },
  {
   "cell_type": "code",
   "execution_count": 280,
   "metadata": {},
   "outputs": [
    {
     "name": "stdout",
     "output_type": "stream",
     "text": [
      "Network diameter: 16\n"
     ]
    }
   ],
   "source": [
    "def longer_path(net):\n",
    "    nodes = list(net.keys())\n",
    "    N = len(nodes)\n",
    "    max_d = 0\n",
    "    for i, node in enumerate(nodes):\n",
    "        visited = [False] * N\n",
    "        dist = [-1] * N\n",
    "        stack = []\n",
    "        stack.append(node)\n",
    "        dist[i] = 0\n",
    "        while len(stack) != 0:\n",
    "            curr_n = stack.pop()\n",
    "            curr_idx = nodes.index(curr_n)\n",
    "            # Check if already visited\n",
    "            if not visited[curr_idx]:\n",
    "                visited[curr_idx] = True\n",
    "                d = dist[curr_idx]\n",
    "                # Label other\n",
    "                childs = list(net[curr_n])\n",
    "                for c in childs:\n",
    "                    if dist[nodes.index(c)] == -1:\n",
    "                        dist[nodes.index(c)] = d + 1\n",
    "                    stack.append(c)\n",
    "        max_d = max([max_d, max(dist)])\n",
    "    return max_d\n",
    "\n",
    "dmax = longer_path(network)\n",
    "print('Network diameter: {}'.format(dmax))"
   ]
  },
  {
   "cell_type": "markdown",
   "metadata": {},
   "source": [
    "## 2.5 Pruning the collected network"
   ]
  },
  {
   "cell_type": "markdown",
   "metadata": {},
   "source": [
    "You might notice that some nodes have very few connections and hence our matrix is very sparse. Prune the collected network so that you keep only the nodes that have a degree that is greater than the average degree and plot the new adjacency matrix."
   ]
  },
  {
   "cell_type": "code",
   "execution_count": 281,
   "metadata": {},
   "outputs": [
    {
     "name": "stdout",
     "output_type": "stream",
     "text": [
      "There are 51 nodes left, initially 188\n"
     ]
    },
    {
     "data": {
      "text/plain": [
       "(array([], dtype=int64), array([], dtype=int64))"
      ]
     },
     "execution_count": 281,
     "metadata": {},
     "output_type": "execute_result"
    }
   ],
   "source": [
    "# Find how many nodes have a degree higher than <k>\n",
    "pruned_nodes = []\n",
    "for ids, childs in network.items():\n",
    "    k = len(childs)\n",
    "    if k > d_avg:\n",
    "        pruned_nodes.append(ids)\n",
    "print('There are {} nodes left, initially {}'.format(len(pruned_nodes), len(all_nodes)))\n",
    "# Init adjacency matrix with proper dimension + fill it\n",
    "Wpruned = np.zeros([len(pruned_nodes),len(pruned_nodes)], dtype=np.int32)\n",
    "for i, ids in enumerate(pruned_nodes):\n",
    "    conn = list(network[ids])\n",
    "    for k in conn:\n",
    "        if k in pruned_nodes:\n",
    "            j = pruned_nodes.index(k)\n",
    "            Wpruned[i, j] = 1\n",
    "# Sanity check\n",
    "np.nonzero(Wpruned - Wpruned.transpose())"
   ]
  },
  {
   "cell_type": "code",
   "execution_count": 282,
   "metadata": {},
   "outputs": [
    {
     "data": {
      "text/plain": [
       "<matplotlib.image.AxesImage at 0x118bf1470>"
      ]
     },
     "execution_count": 282,
     "metadata": {},
     "output_type": "execute_result"
    },
    {
     "data": {
      "image/png": "[encoded data removed]",
      "text/plain": [
       "<matplotlib.figure.Figure at 0x118a5e048>"
      ]
     },
     "metadata": {},
     "output_type": "display_data"
    }
   ],
   "source": [
    "plt.title('Adjacency Matrix Wpruned')\n",
    "plt.spy(Wpruned)"
   ]
  },
  {
   "cell_type": "code",
   "execution_count": null,
   "metadata": {
    "collapsed": true
   },
   "outputs": [],
   "source": []
  }
 ],
 "metadata": {
  "kernelspec": {
   "display_name": "Python 3",
   "language": "python",
   "name": "python3"
  },
  "language_info": {
   "codemirror_mode": {
    "name": "ipython",
    "version": 3
   },
   "file_extension": ".py",
   "mimetype": "text/x-python",
   "name": "python",
   "nbconvert_exporter": "python",
   "pygments_lexer": "ipython3",
   "version": "3.6.1"
  }
 },
 "nbformat": 4,
 "nbformat_minor": 1
}
