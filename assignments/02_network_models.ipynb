{
 "cells": [
  {
   "cell_type": "markdown",
   "metadata": {},
   "source": [
    "# NTDS assignment 2: network models\n",
    "[Hermina Petric Maretic](https://people.epfl.ch/hermina.petricmaretic), *PhD student*, [EPFL](http://epfl.ch) [LTS4](http://lts4.epfl.ch)"
   ]
  },
  {
   "cell_type": "markdown",
   "metadata": {},
   "source": [
    "For this assignment we will work on a network representing the collaboration between scientists in the field of General Relativity and Quantum Cosmology. The network comes from [SNAP](http://snap.stanford.edu/data/ca-GrQc.html) and is described as follows:\n",
    "\n",
    "> Arxiv GR-QC (General Relativity and Quantum Cosmology) collaboration network is from the e-print [arXiv](https://arxiv.org) and covers scientific collaborations between authors papers submitted to General Relativity and Quantum Cosmology category. If an author *i* co-authored a paper with author *j*, the graph contains a undirected edge from *i* to *j*. If the paper is co-authored by *k* authors this generates a completely connected (sub)graph on *k* nodes. The data covers papers in the period from January 1993 to April 2003 (124 months). It begins within a few months of the inception of the arXiv."
   ]
  },
  {
   "cell_type": "code",
   "execution_count": 63,
   "metadata": {
    "collapsed": true
   },
   "outputs": [],
   "source": [
    "%matplotlib inline\n",
    "\n",
    "import os\n",
    "import random\n",
    "import math\n",
    "import matplotlib.pyplot as plt\n",
    "import networkx as nx\n",
    "import numpy as np\n",
    "import warnings\n",
    "warnings.filterwarnings('ignore')"
   ]
  },
  {
   "cell_type": "code",
   "execution_count": 64,
   "metadata": {
    "collapsed": true
   },
   "outputs": [],
   "source": [
    "G = nx.read_edgelist(os.path.join('..', 'data', 'arxiv_collaboration_network.txt'))"
   ]
  },
  {
   "cell_type": "code",
   "execution_count": 65,
   "metadata": {},
   "outputs": [
    {
     "name": "stdout",
     "output_type": "stream",
     "text": [
      "My network has 5242 nodes.\n",
      "My network has 14496 edges.\n"
     ]
    }
   ],
   "source": [
    "print('My network has {} nodes.'.format(len(G.nodes())))\n",
    "print('My network has {} edges.'.format(G.size()))"
   ]
  },
  {
   "cell_type": "markdown",
   "metadata": {},
   "source": [
    "## 1. Comparing to model networks"
   ]
  },
  {
   "cell_type": "markdown",
   "metadata": {},
   "source": [
    "1.1 In this part of the assignment, you have to create an Erdős–Rényi and Barabási-Albert graph using NetworkX, and compare them to the collaboration network. Try to simulate the original network as best as you can. When choosing parameters for the networks, take into account the number of vertices and edges of the original network. The number of vertices should be exactly the same. Comment on your choice of parameters."
   ]
  },
  {
   "cell_type": "code",
   "execution_count": 66,
   "metadata": {
    "collapsed": true
   },
   "outputs": [],
   "source": [
    "def plot_degree(net, title):\n",
    "    deg = net.degree().values()\n",
    "    plt.hist(list(deg))\n",
    "    plt.title(title)\n",
    "    plt.ylabel(\"Number of vertices\")\n",
    "    plt.xlabel(\"Degree\")\n",
    "    plt.show()"
   ]
  },
  {
   "cell_type": "code",
   "execution_count": 67,
   "metadata": {
    "collapsed": true
   },
   "outputs": [],
   "source": [
    "# Erdős–Rényi Graph\n",
    "N = len(G.nodes())\n",
    "p_er = 2 * G.size() / (N * (N - 1))\n",
    "er = nx.erdos_renyi_graph(N, p_er)\n",
    "\n",
    "# Barabási-Albert Graph\n",
    "m = 3\n",
    "ba = nx.barabasi_albert_graph(N, m)\n"
   ]
  },
  {
   "cell_type": "code",
   "execution_count": 68,
   "metadata": {},
   "outputs": [
    {
     "data": {
      "image/png": "[encoded data removed]",
      "text/plain": [
       "<matplotlib.figure.Figure at 0x10c5c4470>"
      ]
     },
     "metadata": {},
     "output_type": "display_data"
    },
    {
     "data": {
      "image/png": "[encoded data removed]",
      "text/plain": [
       "<matplotlib.figure.Figure at 0x10c5c4518>"
      ]
     },
     "metadata": {},
     "output_type": "display_data"
    },
    {
     "data": {
      "image/png": "[encoded data removed]",
      "text/plain": [
       "<matplotlib.figure.Figure at 0x10c5362b0>"
      ]
     },
     "metadata": {},
     "output_type": "display_data"
    }
   ],
   "source": [
    "# Plot for comparison\n",
    "plot_degree(G, 'Data')\n",
    "plot_degree(er, 'Erdős–Rényi')\n",
    "plot_degree(ba, 'Barabási-Albert')"
   ]
  },
  {
   "cell_type": "markdown",
   "metadata": {},
   "source": [
    "**Your answer here.**\n",
    "While considering the Erdős–Rényi model, we can explicitly compute the *linking* propbability as $p = \\frac{2L}{N\\left(N - 1\\right)}$ in order to have network as close as the original (*i.e. in term of vertices/edges*).\n",
    "For the Barabási-Albert model, there is no explicit formulation, therefore one can try to find a number that generate a network close to the original. The value $m = 3$ shows satisfactory results in the experiment."
   ]
  },
  {
   "cell_type": "code",
   "execution_count": 69,
   "metadata": {},
   "outputs": [
    {
     "name": "stdout",
     "output_type": "stream",
     "text": [
      "My Erdős–Rényi network has 5242 nodes.\n",
      "My Erdős–Rényi network has 14459 edges.\n",
      "My Barabási-Albert network has 5242 nodes.\n",
      "My Barabási-Albert network has 15717 edges.\n"
     ]
    }
   ],
   "source": [
    "print('My Erdős–Rényi network has {} nodes.'.format(len(er.nodes())))\n",
    "print('My Erdős–Rényi network has {} edges.'.format(er.size()))\n",
    "print('My Barabási-Albert network has {} nodes.'.format(len(ba.nodes())))\n",
    "print('My Barabási-Albert network has {} edges.'.format(ba.size()))"
   ]
  },
  {
   "cell_type": "markdown",
   "metadata": {},
   "source": [
    "1.2 Check the size of the largest connected component in each graph and compare them to the original network. In the Erdős–Rényi model, what should the probability of creating each edge be in order to have the same expected size of the largest component? Justify. Generate a graph with this parameter to check if you indeed get a similar value."
   ]
  },
  {
   "cell_type": "code",
   "execution_count": 70,
   "metadata": {},
   "outputs": [
    {
     "name": "stdout",
     "output_type": "stream",
     "text": [
      "4158\n",
      "5218\n",
      "5242\n"
     ]
    }
   ],
   "source": [
    "giant_G = max(nx.connected_component_subgraphs(G), key=len)\n",
    "giant_er = max(nx.connected_component_subgraphs(er), key=len)\n",
    "giant_ba = max(nx.connected_component_subgraphs(ba), key=len)\n",
    "print(len(giant_G.nodes()))\n",
    "print(len(giant_er.nodes()))\n",
    "print(len(giant_ba.nodes()))"
   ]
  },
  {
   "cell_type": "markdown",
   "metadata": {},
   "source": [
    "**Your answer here.**\n",
    "\n",
    "Erdős–Rényi network should be in the connected regime in order to have all nodes connected to the giant component. Therefore the probability of connecting an edge is given by:\n",
    "$$ p_{giant} = \\frac{\\ln{N}}{N}$$"
   ]
  },
  {
   "cell_type": "code",
   "execution_count": 71,
   "metadata": {},
   "outputs": [
    {
     "name": "stdout",
     "output_type": "stream",
     "text": [
      "The parameter p for an Erdős–Rényi network with the same expected size of the giant component is 0.00036307000652352164.\n",
      "The size of the component in a randomly generated network with this parameter is 5242.\n",
      "4078\n"
     ]
    }
   ],
   "source": [
    "# Your code here.\n",
    "Ng = len(giant_G.nodes())\n",
    "p_giant = math.log(N) / (4.5*N)\n",
    "print('The parameter p for an Erdős–Rényi network with the same expected size of the giant component is {}.'.format(p_giant))\n",
    "\n",
    "# Your code here.\n",
    "er_giant = nx.erdos_renyi_graph(N, p_giant)\n",
    "print('The size of the component in a randomly generated network with this parameter is {}.'.format(len(er_giant.nodes())))\n",
    "\n",
    "gc = len(max(nx.connected_component_subgraphs(er_giant), key=len).nodes())\n",
    "print(gc)"
   ]
  },
  {
   "cell_type": "markdown",
   "metadata": {},
   "source": [
    "1.3 Look at the clustering coefficient of the original network. Is there a network model we talked about that could have a clustering coefficient that is close? Explain."
   ]
  },
  {
   "cell_type": "code",
   "execution_count": 72,
   "metadata": {},
   "outputs": [
    {
     "data": {
      "text/plain": [
       "0.529635811052136"
      ]
     },
     "execution_count": 72,
     "metadata": {},
     "output_type": "execute_result"
    }
   ],
   "source": [
    "nx.average_clustering(G)"
   ]
  },
  {
   "cell_type": "code",
   "execution_count": 87,
   "metadata": {},
   "outputs": [
    {
     "name": "stdout",
     "output_type": "stream",
     "text": [
      "Clustering coefficient for Erdős–Rényi model 0.001055076968359773\n",
      "Clustering coefficient for Barabási-Albert model 0.010494555619410983\n"
     ]
    }
   ],
   "source": [
    "Cer = p_er * (N - 1) / N\n",
    "Cba = (m/4) * (math.log(N) ** 2 / N)\n",
    "print ('Clustering coefficient for Erdős–Rényi model {}'.format(Cer))\n",
    "print ('Clustering coefficient for Barabási-Albert model {}'.format(Cba))"
   ]
  },
  {
   "cell_type": "markdown",
   "metadata": {},
   "source": [
    "**Your answer here.**\n",
    "\n",
    "$$\\langle C_{er} \\rangle = \\frac{\\langle k \\rangle}{N} = \\frac{p \\left(N - 1\\right)}{N} $$\n",
    "$$\\langle C_{ba} \\rangle = \\frac{m}{4}\\frac{ln\\left(N\\right)^2}{N} $$\n"
   ]
  },
  {
   "cell_type": "markdown",
   "metadata": {},
   "source": [
    "## 2. Creating a network with a predefined degree distribution"
   ]
  },
  {
   "cell_type": "markdown",
   "metadata": {},
   "source": [
    "In this part of the assignment, you will have to create a random network from a predefined degree distribution. There are several network models which can create a random network with the exact same degree distribution as the original, or with the same expected distribution as the original. Refer to section 4.8 of [the Barabási book](http://networksciencebook.com) for more information."
   ]
  },
  {
   "cell_type": "markdown",
   "metadata": {},
   "source": [
    "One of the most famous ones is the configuration model. The model for a graph with $L$ edges in total is constructed in the following steps:\n",
    "\n",
    "- Assign a degree to each node, represented as stubs (half-links). The degree sequence is either generated analytically from a preselected distribution, or it is extracted from the adjacency matrix of a real network. Note that we must start from an even number of stubs to avoid being left with unpaired stubs.\n",
    "- Randomly select a stub pair and connect them. Then randomly choose another pair from the remaining $2L - 2$ stubs and connect them. This procedure is repeated until all stubs are paired up.\n",
    "\n",
    "*Reminder:* A stub is a half-link, representing the half of an edge. It contains one node and can be paired up with another stub to create an edge (between the two corresponding nodes)."
   ]
  },
  {
   "cell_type": "markdown",
   "metadata": {},
   "source": [
    "2.1 However, this model allows for the creation of multi-links (multiple edges between the same pair of vertices) and self-loops, thus leading to a non-simple graph. In this assignment, you will implement a greedy configuration model, to avoid these problems.\n",
    "\n",
    "The algorithm goes as follows:\n",
    "- Extract the degree sequence from our collaboration network.\n",
    "- Assign a target degree to each node, represented as stubs or half-links. Use the degree sequence extracted from the collaboration network.\n",
    "- Sort the nodes by degree. \n",
    "    - Pick the node with the highest target degree. Delete all its stubs from the list of stubs to make sure we don't create a self loop.\n",
    "    - Until all its weighted degree equals its target degree: \n",
    "        - Randomly select one stub from the list of stubs (corresponding to one of the other nodes), and connect these two nodes. In case the two chosen nodes are already connected, simply increase the weight of this edge by one. Be careful to randomly select from stubs and not from nodes, as this means the chances of selecting a node will be proportional to its target degree.\n",
    "    - When the number of edges adjacent to this node corresponds to its target degree, go on to the second node in the list. \n",
    "    - Repeate this procedure until all stubs are paired up, or there is only one node left with a pair number of stubs. In that case, don't create a self-loop, but discard the stubs.\n",
    "    \n",
    "*Hints*: \n",
    " - Use `nx.empty_graph()` to create an empty graph.\n",
    " - Use `G.add_edge(node1,node2,weight = 1)` to add an edge to a weighted graph.\n",
    " - Use `G.edge[node1][node2]['weight'] += 1` to increment the weight of an edge by one."
   ]
  },
  {
   "cell_type": "code",
   "execution_count": 80,
   "metadata": {
    "collapsed": true
   },
   "outputs": [],
   "source": [
    "class Stub:\n",
    "    node_degree = -1\n",
    "    node_id = -1\n",
    "    target_node_id = -1\n",
    "\n",
    "    def __init__(self, id, degree):\n",
    "        \"\"\"\n",
    "        Constructor for one stubs\n",
    "        :param id:      Id of the corresponding node\n",
    "        :param degree:  Targeted degree\n",
    "        \"\"\"\n",
    "        self.node_id = id\n",
    "        self.node_degree = degree\n",
    "        self.target_node_id = -1\n",
    "        \n",
    "def greedy_configuration(degree_distribution):\n",
    "    # Init stubs\n",
    "    stubs = []\n",
    "    for i, deg in enumerate(degree_distribution):\n",
    "        for k in range(0, deg):\n",
    "            stubs.append(Stub(i, deg))\n",
    "    # Init graph\n",
    "    G = nx.empty_graph()\n",
    "    #  Index in the stub list from where to select second half of the edges\n",
    "    stub_idx = 0\n",
    "    #  List of valid stub index (considered as valid of not already selected/ under construction)\n",
    "    valid_idx = list(range(0, len(stubs)))\n",
    "    # Iterate over all node\n",
    "    for deg in degree_distribution:\n",
    "        # Is there still some stubs left ?\n",
    "        if len(valid_idx) != 0:\n",
    "            # Remove index corresponding to this node in order ot not have self loop\n",
    "            for n in range(stub_idx, stub_idx + stubs[stub_idx].node_degree):\n",
    "                if n in valid_idx:\n",
    "                    valid_idx.remove(n)\n",
    "            # Start sampling\n",
    "            for k in range(deg):\n",
    "                # Check if stub is already assigned\n",
    "                if stubs[stub_idx + k].target_node_id == -1:\n",
    "                    # Find unused stubs\n",
    "                    while True:\n",
    "                        #i_stub = random.randint(stub_idx + stubs[stub_idx].node_degree, len(stubs) - 1)\n",
    "                        i_stub = random.choice(valid_idx)\n",
    "                        if stubs[i_stub].target_node_id == -1:\n",
    "                            break\n",
    "                    # Remove index from valid_idx in order to no select it again\n",
    "                    valid_idx.remove(i_stub)\n",
    "                    # Assign edge between the two stubs\n",
    "                    stubs[stub_idx + k].target_node_id = stubs[i_stub].node_id\n",
    "                    stubs[i_stub].target_node_id = stubs[stub_idx + k].node_id\n",
    "                    # Update network\n",
    "                    node1 = stubs[stub_idx + k].node_id\n",
    "                    node2 = stubs[i_stub].node_id\n",
    "                    if G.has_edge(node1, node2):\n",
    "                        G[node1][node2]['weight'] += 1\n",
    "                    else:\n",
    "                        assert node1 != node2\n",
    "                        G.add_edge(node1, node2, weight=1)\n",
    "                    if len(valid_idx) == 0:\n",
    "                        break\n",
    "                else:\n",
    "                    a = 0\n",
    "            # Move to the next node\n",
    "            stub_idx += stubs[stub_idx].node_degree\n",
    "    return G"
   ]
  },
  {
   "cell_type": "code",
   "execution_count": 81,
   "metadata": {},
   "outputs": [],
   "source": [
    "degree_distribution=sorted(nx.degree(G).values(),reverse=True) # degree distribution sorted from highest to lowest\n",
    "gc = greedy_configuration(degree_distribution)"
   ]
  },
  {
   "cell_type": "markdown",
   "metadata": {},
   "source": [
    "2.2 Verify that the networks have the same number of nodes. Plot the difference between the weighted degree distributions to verify that they are identical. If not, why?"
   ]
  },
  {
   "cell_type": "code",
   "execution_count": 83,
   "metadata": {},
   "outputs": [
    {
     "name": "stdout",
     "output_type": "stream",
     "text": [
      "Cumulated degree differences 0\n"
     ]
    },
    {
     "data": {
      "image/png": "[encoded data removed]",
      "text/plain": [
       "<matplotlib.figure.Figure at 0x10c536c50>"
      ]
     },
     "metadata": {},
     "output_type": "display_data"
    }
   ],
   "source": [
    "degree_sequence_gc=sorted(nx.degree(gc, weight = 'weight').values(),reverse=True) #weighted degree distribution\n",
    "# Your code here.\n",
    "acc_diff_deg = 0\n",
    "diff_deg = []\n",
    "for do, dc in zip(degree_distribution, degree_sequence_gc):\n",
    "    diff_deg.append(abs(do - dc))\n",
    "    acc_diff_deg += abs(do - dc)\n",
    "print('Cumulated degree differences %d' % acc_diff_deg)\n",
    "\n",
    "plt.figure(1)\n",
    "plt.plot(diff_deg)\n",
    "plt.xlabel('Node#')\n",
    "plt.ylabel('Degree difference')\n",
    "plt.title('Degree distribution difference')\n",
    "plt.show()"
   ]
  },
  {
   "cell_type": "markdown",
   "metadata": {},
   "source": [
    "**Your answer here.**\n",
    "\n",
    "Both network should have the same degree distribution since we built it using pre-allocated stubs based on degree distribution."
   ]
  },
  {
   "cell_type": "markdown",
   "metadata": {},
   "source": [
    "2.3 Should these two networks have the same adjacency matrices? Justify."
   ]
  },
  {
   "cell_type": "markdown",
   "metadata": {},
   "source": [
    "**Your answer here.**\n",
    "\n",
    "Adjacency matrix define the relationship between each nodes, therefore the two graph should not have the same one since we randomly select in the pool of nodes."
   ]
  },
  {
   "cell_type": "markdown",
   "metadata": {},
   "source": [
    "2.4 Draw both the generated and original networks. Are they similar? If not, why? Try to explain."
   ]
  },
  {
   "cell_type": "code",
   "execution_count": 84,
   "metadata": {},
   "outputs": [
    {
     "data": {
      "image/png": "[encoded data removed]",
      "text/plain": [
       "<matplotlib.figure.Figure at 0x10c290048>"
      ]
     },
     "metadata": {},
     "output_type": "display_data"
    }
   ],
   "source": [
    "# Your code here.\n",
    "nx.draw(G)"
   ]
  },
  {
   "cell_type": "code",
   "execution_count": 85,
   "metadata": {},
   "outputs": [
    {
     "data": {
      "image/png": "[encoded data removed]",
      "text/plain": [
       "<matplotlib.figure.Figure at 0x10d13ad30>"
      ]
     },
     "metadata": {},
     "output_type": "display_data"
    }
   ],
   "source": [
    "nx.draw(gc)"
   ]
  },
  {
   "cell_type": "markdown",
   "metadata": {},
   "source": [
    "**Your answer here.**"
   ]
  },
  {
   "cell_type": "markdown",
   "metadata": {},
   "source": [
    "2.5 Do you expect the properties studied in the first part of the assignment to be close to the original graph? Justify."
   ]
  },
  {
   "cell_type": "markdown",
   "metadata": {},
   "source": [
    "**Your answer here.**\n"
   ]
  }
 ],
 "metadata": {
  "kernelspec": {
   "display_name": "Python 3",
   "language": "python",
   "name": "python3"
  },
  "language_info": {
   "codemirror_mode": {
    "name": "ipython",
    "version": 3
   },
   "file_extension": ".py",
   "mimetype": "text/x-python",
   "name": "python",
   "nbconvert_exporter": "python",
   "pygments_lexer": "ipython3",
   "version": "3.6.1"
  }
 },
 "nbformat": 4,
 "nbformat_minor": 2
}
