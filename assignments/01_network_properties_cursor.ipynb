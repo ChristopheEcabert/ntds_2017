{
 "cells": [
  {
   "cell_type": "markdown",
   "metadata": {},
   "source": [
    "# Collect and Analyze a Twitter Network\n",
    "[Effrosyni Simou](http://lts4.epfl.ch/simou), *PhD Student*, [EPFL](http://epfl.ch) [LTS4](http://lts4.epfl.ch)"
   ]
  },
  {
   "cell_type": "markdown",
   "metadata": {},
   "source": [
    "# Objective of Exercise\n",
    "The aim of this exercise is to learn how to create your own, real network using data collected from the Internet and then to discover some properties of the collected network. "
   ]
  },
  {
   "cell_type": "markdown",
   "metadata": {},
   "source": [
    "# Resources\n",
    "You might want to have a look at the following resources before starting:\n",
    "\n",
    "* [Twitter REST API](https://dev.twitter.com/rest/public)\n",
    "* [Tweepy Documentation](http://tweepy.readthedocs.io/en/v3.5.0/)\n",
    "* [Tutorial \"Mining Twitter data with Python\"](https://marcobonzanini.com/2015/03/02/mining-twitter-data-with-python-part-1/)"
   ]
  },
  {
   "cell_type": "markdown",
   "metadata": {},
   "source": [
    "# 1. Collect a Twitter Network"
   ]
  },
  {
   "cell_type": "markdown",
   "metadata": {},
   "source": [
    "In order to collect data from Twitter you will need to generate access tokens.  To do this you will need to register a [client application with Twitter](https://apps.twitter.com/). Once you are done you should have your tokens. You can now create a `credentials.ini` file as follows:\n",
    "```\n",
    "[twitter]\n",
    "consumer_key = YOUR-CONSUMER-KEY\n",
    "consumer_secret = YOUR-CONSUMER-SECRET\n",
    "access_token = YOUR-ACCESS-TOKEN\n",
    "access_secret = YOUR-ACCESS-SECRET\n",
    "```\n",
    "In this way you will have this information readily available to you. "
   ]
  },
  {
   "cell_type": "code",
   "execution_count": 1,
   "metadata": {
    "collapsed": true
   },
   "outputs": [],
   "source": [
    "%matplotlib inline\n",
    "import random\n",
    "import configparser\n",
    "import matplotlib.pyplot as plt\n",
    "import numpy as np\n",
    "from pprint import pprint\n",
    "import tweepy  # you will need to install tweepy first"
   ]
  },
  {
   "cell_type": "code",
   "execution_count": 2,
   "metadata": {
    "collapsed": true
   },
   "outputs": [],
   "source": [
    "# Read the confidential token.\n",
    "credentials = configparser.ConfigParser()\n",
    "credentials.read('credentials.ini')\n",
    "# authentication\n",
    "auth = tweepy.OAuthHandler(credentials.get('twitter', 'consumer_key'), credentials.get('twitter', 'consumer_secret'))\n",
    "auth.set_access_token(credentials.get('twitter', 'access_token'), credentials.get('twitter', 'access_secret'))\n",
    "# construct API instance, deal with rate limits and notify when delayed because of rate limits\n",
    "api = tweepy.API(auth,wait_on_rate_limit=True, wait_on_rate_limit_notify=True)"
   ]
  },
  {
   "cell_type": "markdown",
   "metadata": {},
   "source": [
    "Now you are all set up to start collecting data from Twitter! "
   ]
  },
  {
   "cell_type": "markdown",
   "metadata": {},
   "source": [
    "In this exercise we will construct a network with the following logic:\n",
    "\n",
    "1) We will chose a `user_id` in Twitter to be our first node. \n",
    "\n",
    "2) We will find (some) of the users who are both following `user_id` and are being followed by `user_id`. From now on we will call such users \"connections\" of `user_id`. We will place these user ids in a list called `first_nodes`. \n",
    "\n",
    "3) For every node in the list `first_nodes` we will then find (some) of the users who are following and are being followed by this node (aka the connections of this node). The user ids collected in this step will be placed in a list called `second_nodes`.\n",
    "\n",
    "4) The collection of the ids of all nodes (aka Twitter users) that we have collected so far will be placed in a list called `all_nodes`.\n",
    "\n",
    "5) Since we have only collected a subset of all possible \"connections\" for our nodes we have to check if there are any remaining inner connections that we have missed.\n",
    "\n",
    "The entire network is to be organized in a dictionary with entries that will have as key the Twitter id of the user (this is a number characterizing each user in Twitter) and as value the list of ids of his connections.\n",
    "\n",
    "So, let us begin. The first thing that you will have to do is to chose the node from which everything will start. I have chosen the Twitter account of [Applied Machine Learning Days](https://www.appliedmldays.org) that will take place in January 2018 in EPFL. You may change that if you wish to, but please make sure that the user you chose has both followers and friends and that he allows you to access this data."
   ]
  },
  {
   "cell_type": "code",
   "execution_count": 3,
   "metadata": {
    "collapsed": true
   },
   "outputs": [],
   "source": [
    "username = 'appliedmldays'\n",
    "user = api.get_user(username)\n",
    "user_id = user.id"
   ]
  },
  {
   "cell_type": "markdown",
   "metadata": {},
   "source": [
    "In the following cell write a function that takes as an argument the Twitter id of a user and returns a list with the **ids** of his connections. Take into account the case where a user does not allow you to access this information.\n",
    "\n",
    "**Reminder:** By connections we mean users that are both followers and friends of a given user."
   ]
  },
  {
   "cell_type": "code",
   "execution_count": 4,
   "metadata": {
    "collapsed": true
   },
   "outputs": [],
   "source": [
    "def find_connections(userid):\n",
    "    \"\"\"\n",
    "    Find connection for a given userid. (Both ID have to follow each other to be defined as connection,\n",
    "    bi-directional edge)\n",
    "    :param userid:  User to find connection with\n",
    "    :return:        Set of IDs connected to this user\n",
    "    \"\"\"\n",
    "    # Query follower and following IDs\n",
    "    connections = set()\n",
    "    try:\n",
    "        followers = [x for x in tweepy.Cursor(api.followers_ids,\n",
    "                                              user_id=userid).items()]\n",
    "        #set(api.followers_ids(user_id=userid))\n",
    "        followings = [x for x in tweepy.Cursor(api.friends_ids,\n",
    "                                              user_id=userid).items()]\n",
    "        #set(api.friends_ids(user_id=userid))\n",
    "        connections = set(followers).intersection(set(followings))\n",
    "    except tweepy.TweepError:\n",
    "        print('Can not access user properties')\n",
    "    return connections"
   ]
  },
  {
   "cell_type": "code",
   "execution_count": 6,
   "metadata": {},
   "outputs": [
    {
     "name": "stdout",
     "output_type": "stream",
     "text": [
      "appliedmldays has 139 connections\n"
     ]
    }
   ],
   "source": [
    "first_connections = find_connections(user_id)\n",
    "print('{} has {} connections'.format(username, len(first_connections)))"
   ]
  },
  {
   "cell_type": "markdown",
   "metadata": {},
   "source": [
    "Collect your `first_nodes` and `second_nodes` and organize your collected nodes and their connections in the dictionary called `network`."
   ]
  },
  {
   "cell_type": "markdown",
   "metadata": {},
   "source": [
    "Hints:\n",
    "* Use `random.choice([1,3,4])` to randomly choose a number in `[1, 3, 4]`.\n",
    "* Use the `append` and `remove` methods to add and remove an element from a Python list.\n",
    "* The `pop` method removes the last item in the list."
   ]
  },
  {
   "cell_type": "code",
   "execution_count": 7,
   "metadata": {
    "collapsed": true
   },
   "outputs": [],
   "source": [
    "def check_user_access_and_sample(userids, n=None):\n",
    "    \"\"\"\n",
    "    Check if users given in the set have protected profile. If it is the case\n",
    "    they get discarded. While checking for valid user, it is possible to\n",
    "    sample n users randomly.\n",
    "    :param userids: List of user to check their profile validity\n",
    "    :param n:       Number of user to sample\n",
    "    :return:        Selected user with non protected account\n",
    "    \"\"\"\n",
    "    # Shuffle first if needed\n",
    "    selection = set()\n",
    "    if n is not None:\n",
    "        users = np.random.permutation(list(userids))\n",
    "        N = n\n",
    "    else:\n",
    "        users = list(userids)\n",
    "        N = len(userids)\n",
    "    # start sampling\n",
    "    cnt = 0\n",
    "    for ids in users:\n",
    "        user = api.get_user(ids)\n",
    "        if not user.protected:\n",
    "            # Can access user info\n",
    "            selection.add(ids)\n",
    "            cnt += 1\n",
    "            if cnt >= N:\n",
    "                break\n",
    "        else:\n",
    "            print('User is protected, skip it')\n",
    "    return selection\n",
    "\n",
    "def second_connections(userids, n=None):\n",
    "    \"\"\"\n",
    "    Given a list IDs find connection for each of them\n",
    "    :param userids: List of IDs to find connection for\n",
    "    :param n: Number of ID to ramdonly pick from connections. If None,\n",
    "    take all of them\n",
    "    :return:    List of connections (2nd level)\n",
    "    \"\"\"\n",
    "    connections = set()\n",
    "    # Look for connections\n",
    "    for ids in userids:\n",
    "        # Query user information\n",
    "        conn = find_connections(ids)\n",
    "        conn = check_user_access_and_sample(conn, n)\n",
    "        # Add sampled connections to the already existing collection\n",
    "        connections = connections.union(conn)\n",
    "    return connections"
   ]
  },
  {
   "cell_type": "code",
   "execution_count": null,
   "metadata": {},
   "outputs": [
    {
     "name": "stdout",
     "output_type": "stream",
     "text": [
      "User is protected, skip it\n",
      "Rate limit reached. Sleeping for: 537\n"
     ]
    }
   ],
   "source": [
    "network={}\n",
    "#This is the number of connections you are sampling.Keep small (e.g.3) for development, larger later (e.g. 10)\n",
    "how_many = 15\n",
    "# Collect first nodes (store in set for convenience)\n",
    "first_connections = find_connections(user_id)\n",
    "first_nodes = check_user_access_and_sample(first_connections, how_many)\n",
    "second_nodes = second_connections(first_nodes, how_many)"
   ]
  },
  {
   "cell_type": "markdown",
   "metadata": {},
   "source": [
    "**Be careful!** You should only keep a small value for the `how_many` parameter while you are developing your code. In order to answer to the questions you should raise the value of this parameter to `how_many=10` at least. This will take a while to execute because of the API rate limit (plan your time accordingly). You should also remember to submit your jupyter notebook with the **output shown for a large value of the `how_many` parameter**. "
   ]
  },
  {
   "cell_type": "code",
   "execution_count": null,
   "metadata": {
    "collapsed": true
   },
   "outputs": [],
   "source": [
    "network[user_id] = first_nodes"
   ]
  },
  {
   "cell_type": "code",
   "execution_count": null,
   "metadata": {},
   "outputs": [],
   "source": [
    "pprint(network)"
   ]
  },
  {
   "cell_type": "code",
   "execution_count": null,
   "metadata": {
    "collapsed": true
   },
   "outputs": [],
   "source": [
    "all_nodes = first_nodes.union(second_nodes)\n",
    "all_nodes.add(user_id)"
   ]
  },
  {
   "cell_type": "code",
   "execution_count": null,
   "metadata": {},
   "outputs": [],
   "source": [
    "print('There are {} first hop nodes'.format(len(first_nodes)))\n",
    "print('There are {} second hop nodes'.format(len(second_nodes)))\n",
    "print('There are overall {} nodes in the collected network'.format(len(all_nodes)))"
   ]
  },
  {
   "cell_type": "code",
   "execution_count": null,
   "metadata": {
    "collapsed": true
   },
   "outputs": [],
   "source": [
    "for i in all_nodes:\n",
    "     network[i]= set()"
   ]
  },
  {
   "cell_type": "markdown",
   "metadata": {},
   "source": [
    "Find the inner connections between your collected nodes that you might have missed because you sampled the connections."
   ]
  },
  {
   "cell_type": "code",
   "execution_count": null,
   "metadata": {},
   "outputs": [],
   "source": [
    "for ids in all_nodes:\n",
    "    print('Search connections for {}'.format(ids))\n",
    "    conn = find_connections(ids)\n",
    "    conn = conn.intersection(all_nodes)\n",
    "    network[ids] = network[ids].union(conn)\n",
    "    for c in conn:\n",
    "        network[c].add(ids)"
   ]
  },
  {
   "cell_type": "markdown",
   "metadata": {},
   "source": [
    "# 2. Discover some of the properties of the collected network"
   ]
  },
  {
   "cell_type": "markdown",
   "metadata": {},
   "source": [
    "## 2.1 Adjacency matrix"
   ]
  },
  {
   "cell_type": "markdown",
   "metadata": {},
   "source": [
    "Congradulations! You have now created a dictionary that describes a real Twitter network!\n",
    "We now want to transform this dictionary into the adjacency (or weight) matrix that you learned about in your first class. "
   ]
  },
  {
   "cell_type": "code",
   "execution_count": null,
   "metadata": {
    "collapsed": true
   },
   "outputs": [],
   "source": [
    "# pprint(network)\n",
    "W=np.zeros([len(all_nodes),len(all_nodes)], dtype=np.int32)"
   ]
  },
  {
   "cell_type": "code",
   "execution_count": null,
   "metadata": {},
   "outputs": [],
   "source": [
    "# your code here\n",
    "nodes = list(all_nodes)\n",
    "for i, ids in enumerate(nodes):\n",
    "    conn = list(network[ids])\n",
    "    for k in conn:\n",
    "        j = nodes.index(k)\n",
    "        W[i, j] = 1\n",
    "plt.spy(W)"
   ]
  },
  {
   "cell_type": "markdown",
   "metadata": {},
   "source": [
    "Remember that a weight matrix should be symmetric. Check if it is:"
   ]
  },
  {
   "cell_type": "code",
   "execution_count": null,
   "metadata": {},
   "outputs": [],
   "source": [
    "np.nonzero(W-W.transpose())"
   ]
  },
  {
   "cell_type": "markdown",
   "metadata": {},
   "source": [
    "**Question 1:**\n",
    "It might happen that $W \\neq W^{T} $ for some $(i,j)$. Explain why this might be the case."
   ]
  },
  {
   "cell_type": "markdown",
   "metadata": {},
   "source": [
    "**Your answer here:**\n",
    "At the moment we are considering undriected edges since both people $i$ and $j$ have to follow each other, therefore the matrix will be symmetric. However if we consider undirected edges (i.e. Person $i$ is following $j$ but $j$ is not necessarly following $i$)  will end up with a non-symmetric matrix."
   ]
  },
  {
   "cell_type": "markdown",
   "metadata": {},
   "source": [
    "Impose your weight matrix to be symmetric."
   ]
  },
  {
   "cell_type": "code",
   "execution_count": null,
   "metadata": {
    "collapsed": true
   },
   "outputs": [],
   "source": [
    "# Make W is symmetric\n",
    "bigger = W.transpose() > W"
   ]
  },
  {
   "cell_type": "code",
   "execution_count": null,
   "metadata": {
    "collapsed": true
   },
   "outputs": [],
   "source": [
    "W = W - W*bigger + W.transpose()*bigger"
   ]
  },
  {
   "cell_type": "markdown",
   "metadata": {},
   "source": [
    "Plot the weight matrix of your collected network.\n",
    "\n",
    "Hint: use `plt.spy()` to visualize a matrix."
   ]
  },
  {
   "cell_type": "code",
   "execution_count": null,
   "metadata": {},
   "outputs": [],
   "source": [
    "# your code here\n",
    "plt.title('Adjacency Matrix W')\n",
    "plt.spy(W)"
   ]
  },
  {
   "cell_type": "markdown",
   "metadata": {},
   "source": [
    "**Question 2:**\n",
    "What is the maximum number of links $L_{max}$ in a network with $N$ nodes (where $N$ is the number of nodes in your collected network)? How many links $L$ are there in your collected network? Comment on how $L$ and $L_{max}$ compare."
   ]
  },
  {
   "cell_type": "markdown",
   "metadata": {},
   "source": [
    "**Your answer here:**\n",
    "From the definition:\n",
    "$$L_{max} = \\frac{N\\left(N - 1\\right)}{2}$$"
   ]
  },
  {
   "cell_type": "code",
   "execution_count": null,
   "metadata": {},
   "outputs": [],
   "source": [
    "Lmax = len(all_nodes) * (len(all_nodes) - 1) / 2\n",
    "L = np.count_nonzero(W) / 2\n",
    "print(\"Lmax is {}\".format(Lmax))\n",
    "print(\"L is {}\".format(L))"
   ]
  },
  {
   "cell_type": "markdown",
   "metadata": {},
   "source": [
    "## 2.2 Degrees distribution"
   ]
  },
  {
   "cell_type": "markdown",
   "metadata": {},
   "source": [
    "Plot a histogram of the degree distribution. "
   ]
  },
  {
   "cell_type": "code",
   "execution_count": null,
   "metadata": {},
   "outputs": [],
   "source": [
    "degree = []\n",
    "for nodes in network.values():\n",
    "    e = len(nodes)\n",
    "    degree.append(e)\n",
    "degree.sort()\n",
    "max_degree = degree[-1]\n",
    "p = [0] * (max_degree + 1)\n",
    "for d in degree:\n",
    "    p[d] += 1\n",
    "# Normalize\n",
    "p = list(map(lambda x: float(x) / sum(p), p))\n",
    "xbin = np.arange(len(p))\n",
    "plt.bar(xbin, p, align='center', width=0.5)\n",
    "plt.title('Degree Distribution')\n",
    "plt.xlabel('Degree')\n",
    "plt.ylabel('P_k')\n",
    "plt.show()"
   ]
  },
  {
   "cell_type": "markdown",
   "metadata": {},
   "source": [
    "**Question 3:** Comment on the plot. What do you observe? Would you expect a similar degree disribution in the complete Twitter network?"
   ]
  },
  {
   "cell_type": "markdown",
   "metadata": {},
   "source": [
    "**Your answer here:**"
   ]
  },
  {
   "cell_type": "markdown",
   "metadata": {},
   "source": [
    "## 2.3 Average degree"
   ]
  },
  {
   "cell_type": "markdown",
   "metadata": {},
   "source": [
    "Calculate the average degree of your collected network."
   ]
  },
  {
   "cell_type": "code",
   "execution_count": null,
   "metadata": {},
   "outputs": [],
   "source": [
    "d_avg = 2 * L / len(all_nodes)\n",
    "print('Average degree: {0:.3f}'.format(d_avg))"
   ]
  },
  {
   "cell_type": "markdown",
   "metadata": {},
   "source": [
    "## 2.4 Diameter of the collected network"
   ]
  },
  {
   "cell_type": "markdown",
   "metadata": {},
   "source": [
    "**Question 4:** What is the diameter of the collected network? Please justify."
   ]
  },
  {
   "cell_type": "markdown",
   "metadata": {},
   "source": [
    "$$\\begin{align}d_{max} &= \\max N_{i,j} \\quad \\forall i,j \\\\ &= 16\\end{align}$$"
   ]
  },
  {
   "cell_type": "code",
   "execution_count": null,
   "metadata": {},
   "outputs": [],
   "source": [
    "def longer_path(net):\n",
    "    nodes = list(net.keys())\n",
    "    N = len(nodes)\n",
    "    max_d = 0\n",
    "    for i, node in enumerate(nodes):\n",
    "        visited = [False] * N\n",
    "        dist = [-1] * N\n",
    "        stack = []\n",
    "        stack.append(node)\n",
    "        dist[i] = 0\n",
    "        while len(stack) != 0:\n",
    "            curr_n = stack.pop()\n",
    "            curr_idx = nodes.index(curr_n)\n",
    "            # Check if already visited\n",
    "            if not visited[curr_idx]:\n",
    "                visited[curr_idx] = True\n",
    "                d = dist[curr_idx]\n",
    "                # Label other\n",
    "                childs = list(net[curr_n])\n",
    "                for c in childs:\n",
    "                    if dist[nodes.index(c)] == -1:\n",
    "                        dist[nodes.index(c)] = d + 1\n",
    "                    stack.append(c)\n",
    "        max_d = max([max_d, max(dist)])\n",
    "    return max_d\n",
    "\n",
    "dmax = longer_path(network)\n",
    "print('Network diameter: {}'.format(dmax))"
   ]
  },
  {
   "cell_type": "markdown",
   "metadata": {},
   "source": [
    "## 2.5 Pruning the collected network"
   ]
  },
  {
   "cell_type": "markdown",
   "metadata": {},
   "source": [
    "You might notice that some nodes have very few connections and hence our matrix is very sparse. Prune the collected network so that you keep only the nodes that have a degree that is greater than the average degree and plot the new adjacency matrix."
   ]
  },
  {
   "cell_type": "code",
   "execution_count": null,
   "metadata": {},
   "outputs": [],
   "source": [
    "# Find how many nodes have a degree higher than <k>\n",
    "pruned_nodes = []\n",
    "for ids, childs in network.items():\n",
    "    k = len(childs)\n",
    "    if k > d_avg:\n",
    "        pruned_nodes.append(ids)\n",
    "print('There are {} nodes left, initially {}'.format(len(pruned_nodes), len(all_nodes)))\n",
    "# Init adjacency matrix with proper dimension + fill it\n",
    "Wpruned = np.zeros([len(pruned_nodes),len(pruned_nodes)], dtype=np.int32)\n",
    "for i, ids in enumerate(pruned_nodes):\n",
    "    conn = list(network[ids])\n",
    "    for k in conn:\n",
    "        if k in pruned_nodes:\n",
    "            j = pruned_nodes.index(k)\n",
    "            Wpruned[i, j] = 1\n",
    "# Sanity check\n",
    "np.nonzero(Wpruned - Wpruned.transpose())"
   ]
  },
  {
   "cell_type": "code",
   "execution_count": null,
   "metadata": {},
   "outputs": [],
   "source": [
    "plt.title('Adjacency Matrix Wpruned')\n",
    "plt.spy(Wpruned)"
   ]
  }
 ],
 "metadata": {
  "kernelspec": {
   "display_name": "Python 3",
   "language": "python",
   "name": "python3"
  },
  "language_info": {
   "codemirror_mode": {
    "name": "ipython",
    "version": 3
   },
   "file_extension": ".py",
   "mimetype": "text/x-python",
   "name": "python",
   "nbconvert_exporter": "python",
   "pygments_lexer": "ipython3",
   "version": "3.6.1"
  }
 },
 "nbformat": 4,
 "nbformat_minor": 1
}
